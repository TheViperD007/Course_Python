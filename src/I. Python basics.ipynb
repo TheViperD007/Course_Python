{
 "cells": [
  {
   "attachments": {},
   "cell_type": "markdown",
   "metadata": {},
   "source": [
    "![picture](https://lh5.googleusercontent.com/3gK4qlljbD8APqYCbmXHh45g3bNFTVURIbFWp9dyAHk9zLBiKxOBjqatngyoApTMCbM=w2400)\n"
   ]
  },
  {
   "attachments": {},
   "cell_type": "markdown",
   "metadata": {},
   "source": [
    "# **I. Python Basics XXX**\n",
    "\n",
    "## **1.1. Types od data**\n",
    "\n",
    "A type is how Python represents different types of data. You can have different types in Python. They can be integers like 11, real numbers like 21.213, they can even be words. Integers, real numbers, and words can be expressed as different data types. The following chart summarizes three data types for the last examples. The first column indicates the expression. The second column indicates the data type. We can see the actual data type in Python by using the **type** command. We can have **int**, which stands for an **integer** and **float** that stands for float, essentially a **real number**. The type **string** is a **sequence of characters**.\n",
    "\n",
    "| type(11)                 | int   | integer                |\n",
    "|--------------------------|-------|------------------------|\n",
    "| type(21.26)              | float | float                  |\n",
    "| type('Hello Python')     | str   | sequence of characters |\n",
    "    \n",
    "Integers can be negative or positive. It should be noted that there is a finite range of integers but it is quite large. Floats are real numbers. They include the integers but also numbers in between the integers. Consider the numbers between 0 and 1. We can select numbers in between them. These numbers are floats. Similarly consider the numbers between 0.5 and 0.6. We can select numbers in between them. These are floats as well.\n",
    "\n",
    "You can change the type of the expression in Python, this is called typecasting. You can convert an int to a float. For example, you can convert or cast the integer 2 to a float 2.0. Nothing really changes, if you cast a float to an integer, you must be careful. For example, if you cast the float 1.1 to 1, you will lose some information. If a string contains an integer value, you can convert it to int. If we convert a string that contains a non-integer value, we get an error. You can convert an int to a string or a float to a string."
   ]
  },
  {
   "cell_type": "code",
   "execution_count": 1,
   "metadata": {},
   "outputs": [
    {
     "data": {
      "text/plain": [
       "(5, 1, 8, 6)"
      ]
     },
     "execution_count": 1,
     "metadata": {},
     "output_type": "execute_result"
    }
   ],
   "source": [
    "int(5) , int(1.1) , int(\"8\") ,  int(6.9)"
   ]
  },
  {
   "cell_type": "code",
   "execution_count": 2,
   "metadata": {},
   "outputs": [
    {
     "data": {
      "text/plain": [
       "(4.0, 1.1, 6.3, 4.9, 6.0)"
      ]
     },
     "execution_count": 2,
     "metadata": {},
     "output_type": "execute_result"
    }
   ],
   "source": [
    "float(4) , float(1.1) , float(\"6.3\") , float(4.9) , float(\"6\")"
   ]
  },
  {
   "cell_type": "code",
   "execution_count": 3,
   "metadata": {},
   "outputs": [
    {
     "data": {
      "text/plain": [
       "('1', 'ren', '6.9')"
      ]
     },
     "execution_count": 3,
     "metadata": {},
     "output_type": "execute_result"
    }
   ],
   "source": [
    "str(\"1\") , str('ren') , str('6.9')"
   ]
  },
  {
   "attachments": {},
   "cell_type": "markdown",
   "metadata": {},
   "source": [
    "Boolean is another important type in Python. A Boolean can take on two values. The first value is True, just remember we use an uppercase T. Boolean values can also be False with an uppercase F. Using the type command on a Boolean value, we obtain the term bool. This is short for Boolean, if we cast a Boolean True to an integer or float, we will get a 1. If we cast a Boolean False to an integer or float, we get a 0. If you cast a 1 to a Boolean, you get a True. Similarly, if you cast a 0 to a Boolean, you get a False.\n",
    "\n",
    "![picture](https://lh3.googleusercontent.com/lQcWZJsDgr0B-Iip7zEuAUbxcuU5RUi_VTyfHqWntPTK7WJV_69QpW9nGeUesD7em1s=w2400)"
   ]
  },
  {
   "cell_type": "code",
   "execution_count": 4,
   "metadata": {},
   "outputs": [
    {
     "data": {
      "text/plain": [
       "(bool, bool, 1, 0)"
      ]
     },
     "execution_count": 4,
     "metadata": {},
     "output_type": "execute_result"
    }
   ],
   "source": [
    "type(True) , type(False), int(True), int(False) #Remenber use upper T or F"
   ]
  },
  {
   "attachments": {},
   "cell_type": "markdown",
   "metadata": {},
   "source": [
    "### **1.1.1. Expressions and Variables**\n",
    "\n",
    "-   **What’s is expression?**\n",
    "\n",
    "    Expressions describe a type of operation the computers perform. Expressions are operations the python performs. For example, basic arithmetic operations like adding multiple numbers. The result in this case is 160. We call the numbers operands, and the math symbols in this case, addition, are called operators.\n",
    "\n",
    "-   **What’s the order of operations in python?**\n",
    "    \n",
    "    The following operations are in a different order. In both cases, Python performs multiplication, then addition, to obtain the final result. We will also be covering more complex operations throughout he course. The expressions in the parentheses are performed first. We then multiply the result by 60. The result is 1,920.\n",
    "\n",
    "-   **Variables in python?**\n",
    "\n",
    "    We can use variables to store values. In this case, we assign a value of 1 to the variable my_variable using the assignment operator, i.e, the equal sign. We can then use the value somewhere else in the code by typing the exact name of the variable.\n",
    "\n",
    "    We will use a colon to denote the value of the variable. We can assign a new value to my_variable using the assignment operator. We assign a value of 10. The variable now has a value of 10.\n",
    "\n",
    "    We call the variable, that contains the total number of minutes, total_min. It's common to use the underscore to represent the start of a new word. You could also use a capital letter. We call the variable that contains the total number of hours, total_hour. We can obtain the total number of hours by dividing total_min by 60. The result is approximately 2.367 hours. If we modify the value of the first variable, the value of the variable will change. The final result values change accordingly, but we do not have to modify the rest of the code."
   ]
  },
  {
   "cell_type": "code",
   "execution_count": 5,
   "metadata": {},
   "outputs": [],
   "source": [
    "x = 43+60+16+41"
   ]
  },
  {
   "cell_type": "code",
   "execution_count": 6,
   "metadata": {},
   "outputs": [
    {
     "name": "stdout",
     "output_type": "stream",
     "text": [
      "1\n"
     ]
    }
   ],
   "source": [
    "my_variable = 1 #change value to 10\n",
    "print(my_variable)"
   ]
  },
  {
   "cell_type": "code",
   "execution_count": 7,
   "metadata": {},
   "outputs": [
    {
     "name": "stdout",
     "output_type": "stream",
     "text": [
      "10\n"
     ]
    }
   ],
   "source": [
    "my_variable = 10\n",
    "print(my_variable)"
   ]
  },
  {
   "cell_type": "code",
   "execution_count": 8,
   "metadata": {},
   "outputs": [
    {
     "name": "stdout",
     "output_type": "stream",
     "text": [
      "160\n",
      "2.6666666666666665\n"
     ]
    }
   ],
   "source": [
    "x = 43+60+16+41\n",
    "print(x)\n",
    "y = x/60\n",
    "print(y)"
   ]
  },
  {
   "cell_type": "code",
   "execution_count": 9,
   "metadata": {},
   "outputs": [],
   "source": [
    "total_min = 43+42+57"
   ]
  },
  {
   "cell_type": "code",
   "execution_count": 10,
   "metadata": {},
   "outputs": [],
   "source": [
    "total_min = 43+42 # Chage value of variable total_min\""
   ]
  },
  {
   "cell_type": "code",
   "execution_count": 11,
   "metadata": {},
   "outputs": [
    {
     "name": "stdout",
     "output_type": "stream",
     "text": [
      "1.4166666666666667\n"
     ]
    }
   ],
   "source": [
    "total_hr = total_min/60   #print new result for variable total_hr\n",
    "print(total_hr)"
   ]
  },
  {
   "attachments": {},
   "cell_type": "markdown",
   "metadata": {},
   "source": [
    "### **1.1.2. String Operations**\n",
    "\n",
    "In Python, a string is a sequence of characters. A string is contained within two quotes. You could also use single quotes. A string can be spaces or digits. A string can also be special characters. We can bind or assign a string to another variable.\n",
    "\n",
    "\"Michael Jackson\" or 'Michael Jackson'\n",
    "name = \"Michael Jackson\"\n",
    "\n",
    "-   **Index of a string**\n",
    "\n",
    "    It is helpful to think of a string as an ordered sequence. Each element in the sequence can be accessed using an index represented by the array of numbers. The first index will always be 0, you can access the index six that will be 'l' and the index 13 that will be 'o'.\n",
    " \n",
    "    **The brackets ([ ]) allow us to access any element within a string.**\n",
    "\n",
    "    ![picture](https://lh6.googleusercontent.com/BWZf64Fyrb5B3RNoqyFFgwvjzmMr_5Gro0znhsyam06DR85UJiCJwZdFM8nxnUvxFiI=w2400)\n",
    "\n",
    "    We can also use negative indexing with strings. The last element is given by the index negative one. The first element can be obtained by index negative 15 and so on.\n",
    "    \n",
    "    ![picture](https://lh5.googleusercontent.com/ngMvxue4HQoBwhLwgYGyhQ2BsguhXWr4GcXFCUnlA_mKhMrtcIUHGLHE60W96IH1clw=w2400)"
   ]
  },
  {
   "cell_type": "code",
   "execution_count": 12,
   "metadata": {},
   "outputs": [
    {
     "name": "stdout",
     "output_type": "stream",
     "text": [
      "15\n"
     ]
    },
    {
     "data": {
      "text/plain": [
       "('M', 'l', 'o', 'M', 'J', 'n')"
      ]
     },
     "execution_count": 12,
     "metadata": {},
     "output_type": "execute_result"
    }
   ],
   "source": [
    "name = \"Michael Jackson\"\n",
    "print(len(name))   # We can use the len command to obtain the length of the string.\n",
    "name [0], name [6] , name [13], name [-15], name [-7] , name [-1]"
   ]
  },
  {
   "cell_type": "code",
   "execution_count": 13,
   "metadata": {},
   "outputs": [
    {
     "name": "stdout",
     "output_type": "stream",
     "text": [
      "python\n",
      "||||||\n",
      "012345\n",
      "||||||\n",
      "-6-5-4-3-2-1\n"
     ]
    }
   ],
   "source": [
    "info = \"python\"\n",
    "print(info)\n",
    "print('||||||')\n",
    "print('012345')\n",
    "print('||||||')\n",
    "print('-6-5-4-3-2-1')"
   ]
  },
  {
   "cell_type": "code",
   "execution_count": 14,
   "metadata": {},
   "outputs": [
    {
     "name": "stdout",
     "output_type": "stream",
     "text": [
      "6\n",
      "p\n",
      "h n\n",
      "n\n",
      "o\n"
     ]
    }
   ],
   "source": [
    "print(len(info))\n",
    "print(info[0]) # el primer elemento\n",
    "print(info[3],info[5]) # el cuarto y sexto elemento\n",
    "print(info[-1]) # ultimo elemento\n",
    "print(info[-2]) # el penultimo elemento"
   ]
  },
  {
   "attachments": {},
   "cell_type": "markdown",
   "metadata": {},
   "source": [
    "-   **Index and segment a string**\n",
    "\n",
    "      Instead of extracting a single element, we can extract a block also with brackets ([ ]).\n",
    "      We can also input a stride value as follows: The two indicates we'd select every second variable. We can also incorporate slicing. In this case, we return every second value up to index four."
   ]
  },
  {
   "cell_type": "code",
   "execution_count": 15,
   "metadata": {},
   "outputs": [
    {
     "data": {
      "text/plain": [
       "('Mich', 'Jack', 'McalJcsn', 'Mca')"
      ]
     },
     "execution_count": 15,
     "metadata": {},
     "output_type": "execute_result"
    }
   ],
   "source": [
    "name[0:4], name[8:12] , name[::2] , name[0:5:2]"
   ]
  },
  {
   "cell_type": "code",
   "execution_count": 16,
   "metadata": {},
   "outputs": [
    {
     "name": "stdout",
     "output_type": "stream",
     "text": [
      "n\n",
      "pto\n"
     ]
    }
   ],
   "source": [
    "print(info[len(info)-1]) # Calcular la última letra de info\n",
    "print(info[0:5:2]) # paso = 2 (de dos en dos)\n"
   ]
  },
  {
   "attachments": {},
   "cell_type": "markdown",
   "metadata": {},
   "source": [
    "-   **Sequence of operations with strings**\n",
    "\n",
    "    We can bind a string to another variable. It is helpful to think of string as a list or tuple. We can treat the string as a sequence and perform sequence operations. This means you cannot change the value of the string, but you can create a new string. For example, you can create a new string by setting it to the original variable and concatenate it with a new string. The result is a new string that changes from Michael Jackson to Michael Jackson is the best. Strings are immutable. Back slashes represent the beginning of escape sequences."
   ]
  },
  {
   "cell_type": "code",
   "execution_count": 17,
   "metadata": {},
   "outputs": [
    {
     "name": "stdout",
     "output_type": "stream",
     "text": [
      "Michael Jackson is the best\n"
     ]
    },
    {
     "data": {
      "text/plain": [
       "'Michael Jakson Michael Jakson Michael Jakson '"
      ]
     },
     "execution_count": 17,
     "metadata": {},
     "output_type": "execute_result"
    }
   ],
   "source": [
    "name = \"Michael Jackson\"\n",
    "statement = name + \" is the best\"\n",
    "print(statement)\n",
    "3*\"Michael Jakson \""
   ]
  },
  {
   "cell_type": "code",
   "execution_count": 18,
   "metadata": {},
   "outputs": [
    {
     "name": "stdout",
     "output_type": "stream",
     "text": [
      "A,B,C,D,E\n",
      "A->B->C->D->E\n",
      "|1|2|3|\n",
      "|---\n",
      "|---|---|---|---|---|---|---|---|---|---|\n",
      "|=|\n",
      "|==|\n",
      "|===|\n",
      "|====|\n",
      "|=====|\n",
      "|======|\n",
      "|=======|\n"
     ]
    }
   ],
   "source": [
    "print(\",\".join(\"ABCDE\")) ,\n",
    "print(\"->\".join(\"ABCDE\")) ,\n",
    "print(\"|\" + \"|\".join(\"123\") + \"|\")\n",
    "print(\"|\" + \"-\" * 3)\n",
    "print((\"|\" + \"-\" * 3) * 10 + \"|\")\n",
    "print(\"|\"+\"=\" * 1+\"|\")\n",
    "print(\"|\"+\"=\" * 2+\"|\")\n",
    "print(\"|\"+\"=\" * 3+\"|\")\n",
    "print(\"|\"+\"=\" * 4+\"|\")\n",
    "print(\"|\"+\"=\" * 5+\"|\")\n",
    "print(\"|\"+\"=\" * 6+\"|\")\n",
    "print(\"|\"+\"=\" * 7+\"|\")"
   ]
  },
  {
   "cell_type": "code",
   "execution_count": 19,
   "metadata": {},
   "outputs": [
    {
     "name": "stdout",
     "output_type": "stream",
     "text": [
      "c\n"
     ]
    }
   ],
   "source": [
    "info=\"abcdef\"\n",
    "len(info)\n",
    "print(info[2:5:3])"
   ]
  },
  {
   "cell_type": "code",
   "execution_count": 20,
   "metadata": {},
   "outputs": [
    {
     "name": "stdout",
     "output_type": "stream",
     "text": [
      "fedcba\n"
     ]
    }
   ],
   "source": [
    "cadena_invertida = info[::-1]\n",
    "print(cadena_invertida)"
   ]
  },
  {
   "attachments": {},
   "cell_type": "markdown",
   "metadata": {},
   "source": [
    "-   **Find and slipt**\n",
    "\n",
    "    We can split a variable that has several words and then search each word separately."
   ]
  },
  {
   "cell_type": "code",
   "execution_count": 21,
   "metadata": {},
   "outputs": [
    {
     "name": "stdout",
     "output_type": "stream",
     "text": [
      "['Hellow', 'world', ',', 'my', 'name', 'is', 'Pyhon']\n"
     ]
    },
    {
     "data": {
      "text/plain": [
       "['Hellow', 'world', ',', 'my', 'name', 'is', 'Pyhon']"
      ]
     },
     "execution_count": 21,
     "metadata": {},
     "output_type": "execute_result"
    }
   ],
   "source": [
    "phrase = \"Hellow world , my name is Pyhon\"\n",
    "x = phrase.split(\" \")\n",
    "print(x) #or\n",
    "phrase.split(\" \")\n"
   ]
  },
  {
   "cell_type": "code",
   "execution_count": 22,
   "metadata": {},
   "outputs": [
    {
     "data": {
      "text/plain": [
       "list"
      ]
     },
     "execution_count": 22,
     "metadata": {},
     "output_type": "execute_result"
    }
   ],
   "source": [
    "type(x)"
   ]
  },
  {
   "cell_type": "code",
   "execution_count": 23,
   "metadata": {},
   "outputs": [
    {
     "name": "stdout",
     "output_type": "stream",
     "text": [
      "my\n",
      "['my', 'name']\n"
     ]
    }
   ],
   "source": [
    "print(x[3]), \n",
    "print(x[3:5])"
   ]
  },
  {
   "cell_type": "code",
   "execution_count": 24,
   "metadata": {},
   "outputs": [
    {
     "data": {
      "text/plain": [
       "['Hellow', 'world', 'my', 'name', 'is', 'Pyhon']"
      ]
     },
     "execution_count": 24,
     "metadata": {},
     "output_type": "execute_result"
    }
   ],
   "source": [
    "phrase2 = \"Hellow,world,my,name,is,Pyhon\"\n",
    "phrase2.split(',')\n"
   ]
  },
  {
   "cell_type": "code",
   "execution_count": 25,
   "metadata": {},
   "outputs": [
    {
     "name": "stdout",
     "output_type": "stream",
     "text": [
      "['1', '2', '3']\n"
     ]
    }
   ],
   "source": [
    "x = \"1|2|3\"\n",
    "print(x.split(\"|\"))"
   ]
  },
  {
   "attachments": {},
   "cell_type": "markdown",
   "metadata": {},
   "source": [
    "-   **Escape sequences**\n",
    "\n",
    "    Back slashes represent the beginning of escape sequences. Escape sequences represent strings that may be difficult to input. For example, back slash \"n\" represents a new line. The output is given by a new line after the back slash \"n\" is encountered:"
   ]
  },
  {
   "cell_type": "code",
   "execution_count": 26,
   "metadata": {},
   "outputs": [
    {
     "name": "stdout",
     "output_type": "stream",
     "text": [
      " Michael Jackson \n",
      " is the best\n"
     ]
    }
   ],
   "source": [
    "# New line escape sequence\n",
    "print(\" Michael Jackson \\n is the best\" )"
   ]
  },
  {
   "cell_type": "code",
   "execution_count": 27,
   "metadata": {},
   "outputs": [
    {
     "name": "stdout",
     "output_type": "stream",
     "text": [
      " Michael Jackson \t is the best\n"
     ]
    }
   ],
   "source": [
    "# Tab escape sequence\n",
    "\n",
    "print(\" Michael Jackson \\t is the best\" )"
   ]
  },
  {
   "cell_type": "code",
   "execution_count": 28,
   "metadata": {},
   "outputs": [
    {
     "name": "stdout",
     "output_type": "stream",
     "text": [
      " Michael Jackson \\ is the best\n"
     ]
    }
   ],
   "source": [
    "# Include back slash in string\n",
    "\n",
    "print(\" Michael Jackson \\\\ is the best\" )"
   ]
  },
  {
   "cell_type": "code",
   "execution_count": 29,
   "metadata": {},
   "outputs": [
    {
     "name": "stdout",
     "output_type": "stream",
     "text": [
      " Michael Jackson \\ is the best\n"
     ]
    }
   ],
   "source": [
    "# r will tell python that string will be display as raw string\n",
    "\n",
    "print(r\" Michael Jackson \\ is the best\" )"
   ]
  },
  {
   "cell_type": "code",
   "execution_count": 30,
   "metadata": {},
   "outputs": [
    {
     "name": "stdout",
     "output_type": "stream",
     "text": [
      "before upper: Thriller is the sixth studio album\n",
      "After upper: THRILLER IS THE SIXTH STUDIO ALBUM\n"
     ]
    }
   ],
   "source": [
    "# Convert all the characters in string to upper case\n",
    "\n",
    "a = \"Thriller is the sixth studio album\"\n",
    "print(\"before upper:\", a)\n",
    "b = a.upper()\n",
    "print(\"After upper:\", b)"
   ]
  },
  {
   "cell_type": "code",
   "execution_count": 31,
   "metadata": {},
   "outputs": [
    {
     "data": {
      "text/plain": [
       "'Janet Jackson is the best'"
      ]
     },
     "execution_count": 31,
     "metadata": {},
     "output_type": "execute_result"
    }
   ],
   "source": [
    "# Replace the old substring with the new target substring is the segment has been found in the string\n",
    "\n",
    "a = \"Michael Jackson is the best\"\n",
    "b = a.replace('Michael', 'Janet')\n",
    "b"
   ]
  },
  {
   "cell_type": "code",
   "execution_count": 32,
   "metadata": {},
   "outputs": [
    {
     "data": {
      "text/plain": [
       "5"
      ]
     },
     "execution_count": 32,
     "metadata": {},
     "output_type": "execute_result"
    }
   ],
   "source": [
    "# Find the substring in the string. Only the index of the first elment of substring in string will be the output\n",
    "\n",
    "name = \"Michael Jackson\"\n",
    "name.find('el')"
   ]
  },
  {
   "cell_type": "code",
   "execution_count": 33,
   "metadata": {},
   "outputs": [
    {
     "data": {
      "text/plain": [
       "-1"
      ]
     },
     "execution_count": 33,
     "metadata": {},
     "output_type": "execute_result"
    }
   ],
   "source": [
    "# If cannot find the substring in the string. If the sub-string is not in the string then the output is a negative one. For example, the string 'Jasdfasdasdf' is not a substring:\n",
    "\n",
    "name.find('Jasdfasdasdf')"
   ]
  },
  {
   "attachments": {},
   "cell_type": "markdown",
   "metadata": {},
   "source": [
    "###  **Ejercicio 1: Implementar un programa que calcule la edad de una persona al ingresar su fecha de nacimiento en formato DD/MM/YY.**\n",
    "\n",
    "Ejemplo: \n",
    "\n",
    "```\n",
    "Ingrese su fecha de nacimiento: 12/02/2005\n",
    "Su edad es 17\n",
    "```"
   ]
  },
  {
   "cell_type": "code",
   "execution_count": 34,
   "metadata": {},
   "outputs": [
    {
     "name": "stdout",
     "output_type": "stream",
     "text": [
      "['19', '06', '1997']\n",
      "Su edad es:  25\n"
     ]
    }
   ],
   "source": [
    "date = input(\"Ingrese su fecha de nacimiento en el siguiente fomrato DD/MM/YYYY\")\n",
    "age = date.split(\"/\")\n",
    "print(age)\n",
    "result = 2022 - int(age[2])\n",
    "print('Su edad es: ',result)"
   ]
  },
  {
   "attachments": {},
   "cell_type": "markdown",
   "metadata": {},
   "source": [
    "### **Ejercicio 2: Implemente un programa que solicite ingresar un número entero positivo y que retorne si el número es múltiplo de 3.**\n",
    "\n",
    "Ejemplo: \n",
    "\n",
    "```\n",
    "Ingrese el numero: 18\n",
    "El numero 18 es multiplo de 3\n",
    "```"
   ]
  },
  {
   "cell_type": "code",
   "execution_count": 35,
   "metadata": {},
   "outputs": [
    {
     "name": "stdout",
     "output_type": "stream",
     "text": [
      "92\n",
      "2\n",
      "0\n",
      "True\n",
      "El numero 92  es multiplo de 2\n"
     ]
    }
   ],
   "source": [
    "n = int(input(\"Ingrese numero a determinar multiplicidad\"))\n",
    "a = int(input(\"Ingrese numero base \"))\n",
    "result = n%a == 0\n",
    "print(n)\n",
    "print(a)\n",
    "print(n%a)\n",
    "print(result)\n",
    "print(\"El numero\", n , \"no\"*(1-result), \"es multiplo de\",a)"
   ]
  }
 ],
 "metadata": {
  "kernelspec": {
   "display_name": "Python 3.11.0 64-bit",
   "language": "python",
   "name": "python3"
  },
  "language_info": {
   "codemirror_mode": {
    "name": "ipython",
    "version": 3
   },
   "file_extension": ".py",
   "mimetype": "text/x-python",
   "name": "python",
   "nbconvert_exporter": "python",
   "pygments_lexer": "ipython3",
   "version": "3.11.0 (main, Oct 24 2022, 18:26:48) [MSC v.1933 64 bit (AMD64)]"
  },
  "orig_nbformat": 4,
  "vscode": {
   "interpreter": {
    "hash": "dd52d00ba46645e1274d8513d26904c232551468df8b8dd20c2a8a30d9bbf604"
   }
  }
 },
 "nbformat": 4,
 "nbformat_minor": 2
}
