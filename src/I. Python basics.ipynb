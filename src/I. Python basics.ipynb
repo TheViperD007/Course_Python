{
 "cells": [
  {
   "cell_type": "markdown",
   "metadata": {},
   "source": [
    "![picture](https://lh5.googleusercontent.com/3gK4qlljbD8APqYCbmXHh45g3bNFTVURIbFWp9dyAHk9zLBiKxOBjqatngyoApTMCbM=w2400)\n"
   ]
  },
  {
   "cell_type": "markdown",
   "metadata": {},
   "source": [
    "# I. Python Basics\n",
    "\n",
    "## 1.1. Types od data\n",
    "\n",
    "A type is how Python represents different types of data. You can have different types in Python. They can be integers like 11, real numbers like 21.213, they can even be words. Integers, real numbers, and words can be expressed as different data types. The following chart summarizes three data types for the last examples. The first column indicates the expression. The second column indicates the data type. We can see the actual data type in Python by using the **type** command. We can have **int**, which stands for an **integer** and **float** that stands for float, essentially a **real number**. The type **string** is a **sequence of characters**.\n",
    "\n",
    "| type(11)                 | int   | integer                |\n",
    "|--------------------------|-------|------------------------|\n",
    "| type(21.26)              | float | float                  |\n",
    "| type(”Hello Python”)     | str   | sequence of characters |\n",
    "    \n",
    "Integers can be negative or positive. It should be noted that there is a finite range of integers but it is quite large. Floats are real numbers. They include the integers but also numbers in between the integers. Consider the numbers between 0 and 1. We can select numbers in between them. These numbers are floats. Similarly consider the numbers between 0.5 and 0.6. We can select numbers in between them. These are floats as well.\n",
    "\n",
    "You can change the type of the expression in Python, this is called typecasting. You can convert an int to a float. For example, you can convert or cast the integer 2 to a float 2.0. Nothing really changes, if you cast a float to an integer, you must be careful. For example, if you cast the float 1.1 to 1, you will lose some information. If a string contains an integer value, you can convert it to int. If we convert a string that contains a non-integer value, we get an error. You can convert an int to a string or a float to a string."
   ]
  },
  {
   "cell_type": "code",
   "execution_count": 989,
   "metadata": {},
   "outputs": [
    {
     "data": {
      "text/plain": [
       "(5, 1, 8, 6)"
      ]
     },
     "execution_count": 989,
     "metadata": {},
     "output_type": "execute_result"
    }
   ],
   "source": [
    "int(5) , int(1.1) , int(\"8\") ,  int(6.9)"
   ]
  },
  {
   "cell_type": "code",
   "execution_count": 990,
   "metadata": {},
   "outputs": [
    {
     "data": {
      "text/plain": [
       "(4.0, 1.1, 6.3, 4.9, 6.0)"
      ]
     },
     "execution_count": 990,
     "metadata": {},
     "output_type": "execute_result"
    }
   ],
   "source": [
    "float(4) , float(1.1) , float(\"6.3\") , float(4.9) , float(\"6\")"
   ]
  },
  {
   "cell_type": "code",
   "execution_count": 991,
   "metadata": {},
   "outputs": [
    {
     "data": {
      "text/plain": [
       "('1', 'ren', '6.9')"
      ]
     },
     "execution_count": 991,
     "metadata": {},
     "output_type": "execute_result"
    }
   ],
   "source": [
    "str(\"1\") , str('ren') , str('6.9')"
   ]
  },
  {
   "cell_type": "markdown",
   "metadata": {},
   "source": [
    "Boolean is another important type in Python. A Boolean can take on two values. The first value is True, just remember we use an uppercase T. Boolean values can also be False with an uppercase F. Using the type command on a Boolean value, we obtain the term bool. This is short for Boolean, if we cast a Boolean True to an integer or float, we will get a 1. If we cast a Boolean False to an integer or float, we get a 0. If you cast a 1 to a Boolean, you get a True. Similarly, if you cast a 0 to a Boolean, you get a False.\n",
    "\n",
    "![picture](https://lh3.googleusercontent.com/lQcWZJsDgr0B-Iip7zEuAUbxcuU5RUi_VTyfHqWntPTK7WJV_69QpW9nGeUesD7em1s=w2400)"
   ]
  },
  {
   "cell_type": "code",
   "execution_count": 992,
   "metadata": {},
   "outputs": [
    {
     "data": {
      "text/plain": [
       "(bool, bool, 1, 0)"
      ]
     },
     "execution_count": 992,
     "metadata": {},
     "output_type": "execute_result"
    }
   ],
   "source": [
    "type(True) , type(False), int(True), int(False) #Remenber use upper T or F"
   ]
  },
  {
   "cell_type": "markdown",
   "metadata": {},
   "source": [
    "### **1.1.1. Expressions and Variables**\n",
    "\n",
    "-   **What’s is expression?**\n",
    "\n",
    "    Expressions describe a type of operation the computers perform. Expressions are operations the python performs. For example, basic arithmetic operations like adding multiple numbers. The result in this case is 160. We call the numbers operands, and the math symbols in this case, addition, are called operators.\n",
    "\n",
    "-   **What’s the order of operations in python?**\n",
    "    \n",
    "    The following operations are in a different order. In both cases, Python performs multiplication, then addition, to obtain the final result. We will also be covering more complex operations throughout he course. The expressions in the parentheses are performed first. We then multiply the result by 60. The result is 1,920.\n",
    "\n",
    "-   **Variables in python?**\n",
    "\n",
    "    We can use variables to store values. In this case, we assign a value of 1 to the variable my_variable using the assignment operator, i.e, the equal sign. We can then use the value somewhere else in the code by typing the exact name of the variable.\n",
    "\n",
    "    We will use a colon to denote the value of the variable. We can assign a new value to my_variable using the assignment operator. We assign a value of 10. The variable now has a value of 10.\n",
    "\n",
    "    We call the variable, that contains the total number of minutes, total_min. It's common to use the underscore to represent the start of a new word. You could also use a capital letter. We call the variable that contains the total number of hours, total_hour. We can obtain the total number of hours by dividing total_min by 60. The result is approximately 2.367 hours. If we modify the value of the first variable, the value of the variable will change. The final result values change accordingly, but we do not have to modify the rest of the code."
   ]
  },
  {
   "cell_type": "code",
   "execution_count": 993,
   "metadata": {},
   "outputs": [],
   "source": [
    "x = 43+60+16+41"
   ]
  },
  {
   "cell_type": "code",
   "execution_count": 994,
   "metadata": {},
   "outputs": [
    {
     "name": "stdout",
     "output_type": "stream",
     "text": [
      "1\n"
     ]
    }
   ],
   "source": [
    "my_variable = 1 #change value to 10\n",
    "print(my_variable)"
   ]
  },
  {
   "cell_type": "code",
   "execution_count": 995,
   "metadata": {},
   "outputs": [
    {
     "name": "stdout",
     "output_type": "stream",
     "text": [
      "10\n"
     ]
    }
   ],
   "source": [
    "my_variable = 10\n",
    "print(my_variable)"
   ]
  },
  {
   "cell_type": "code",
   "execution_count": 996,
   "metadata": {},
   "outputs": [
    {
     "name": "stdout",
     "output_type": "stream",
     "text": [
      "160\n",
      "2.6666666666666665\n"
     ]
    }
   ],
   "source": [
    "x = 43+60+16+41\n",
    "print(x)\n",
    "y = x/60\n",
    "print(y)"
   ]
  },
  {
   "cell_type": "code",
   "execution_count": 997,
   "metadata": {},
   "outputs": [],
   "source": [
    "total_min = 43+42+57"
   ]
  },
  {
   "cell_type": "code",
   "execution_count": 998,
   "metadata": {},
   "outputs": [],
   "source": [
    "total_min = 43+42 # Chage value of variable total_min\""
   ]
  },
  {
   "cell_type": "code",
   "execution_count": 999,
   "metadata": {},
   "outputs": [
    {
     "name": "stdout",
     "output_type": "stream",
     "text": [
      "1.4166666666666667\n"
     ]
    }
   ],
   "source": [
    "total_hr = total_min/60   #print new result for variable total_hr\n",
    "print(total_hr)"
   ]
  },
  {
   "cell_type": "markdown",
   "metadata": {},
   "source": [
    "### **1.1.2. String Operations**\n",
    "\n",
    "In Python, a string is a sequence of characters. A string is contained within two quotes. You could also use single quotes. A string can be spaces or digits. A string can also be special characters. We can bind or assign a string to another variable.\n",
    "\n",
    "\"Michael Jackson\" or 'Michael Jackson'\n",
    "name = \"Michael Jackson\"\n",
    "\n",
    "-   **Index of a string**\n",
    "\n",
    "    It is helpful to think of a string as an ordered sequence. Each element in the sequence can be accessed using an index represented by the array of numbers. The first index will always be 0, you can access the index six that will be 'l' and the index 13 that will be 'o'.\n",
    " \n",
    "    **The brackets ([ ]) allow us to access any element within a string.**\n",
    "\n",
    "    ![picture](https://lh6.googleusercontent.com/BWZf64Fyrb5B3RNoqyFFgwvjzmMr_5Gro0znhsyam06DR85UJiCJwZdFM8nxnUvxFiI=w2400)\n",
    "\n",
    "    We can also use negative indexing with strings. The last element is given by the index negative one. The first element can be obtained by index negative 15 and so on.\n",
    "    \n",
    "    ![picture](https://lh5.googleusercontent.com/ngMvxue4HQoBwhLwgYGyhQ2BsguhXWr4GcXFCUnlA_mKhMrtcIUHGLHE60W96IH1clw=w2400)"
   ]
  },
  {
   "cell_type": "code",
   "execution_count": 1000,
   "metadata": {},
   "outputs": [
    {
     "name": "stdout",
     "output_type": "stream",
     "text": [
      "15\n"
     ]
    },
    {
     "data": {
      "text/plain": [
       "('M', 'l', 'o', 'M', 'J', 'n')"
      ]
     },
     "execution_count": 1000,
     "metadata": {},
     "output_type": "execute_result"
    }
   ],
   "source": [
    "name = \"Michael Jackson\"\n",
    "print(len(name))   # We can use the len command to obtain the length of the string.\n",
    "name [0], name [6] , name [13], name [-15], name [-7] , name [-1]"
   ]
  },
  {
   "cell_type": "code",
   "execution_count": 1001,
   "metadata": {},
   "outputs": [
    {
     "name": "stdout",
     "output_type": "stream",
     "text": [
      "python\n",
      "||||||\n",
      "012345\n",
      "||||||\n",
      "-6-5-4-3-2-1\n"
     ]
    }
   ],
   "source": [
    "info = \"python\"\n",
    "print(info)\n",
    "print('||||||')\n",
    "print('012345')\n",
    "print('||||||')\n",
    "print('-6-5-4-3-2-1')"
   ]
  },
  {
   "cell_type": "code",
   "execution_count": 1002,
   "metadata": {},
   "outputs": [
    {
     "name": "stdout",
     "output_type": "stream",
     "text": [
      "6\n",
      "p\n",
      "h n\n",
      "n\n",
      "o\n"
     ]
    }
   ],
   "source": [
    "print(len(info))\n",
    "print(info[0]) # el primer elemento\n",
    "print(info[3],info[5]) # el cuarto y sexto elemento\n",
    "print(info[-1]) # ultimo elemento\n",
    "print(info[-2]) # el penultimo elemento"
   ]
  },
  {
   "cell_type": "markdown",
   "metadata": {},
   "source": [
    "-   **Index and segment a string**\n",
    "\n",
    "      Instead of extracting a single element, we can extract a block also with brackets ([ ]).\n",
    "      We can also input a stride value as follows: The two indicates we'd select every second variable. We can also incorporate slicing. In this case, we return every second value up to index four."
   ]
  },
  {
   "cell_type": "code",
   "execution_count": 1003,
   "metadata": {},
   "outputs": [
    {
     "data": {
      "text/plain": [
       "('Mich', 'Jack', 'McalJcsn', 'Mca')"
      ]
     },
     "execution_count": 1003,
     "metadata": {},
     "output_type": "execute_result"
    }
   ],
   "source": [
    "name[0:4], name[8:12] , name[::2] , name[0:5:2]"
   ]
  },
  {
   "cell_type": "code",
   "execution_count": 1004,
   "metadata": {},
   "outputs": [
    {
     "name": "stdout",
     "output_type": "stream",
     "text": [
      "n\n",
      "pto\n"
     ]
    }
   ],
   "source": [
    "print(info[len(info)-1]) # Calcular la última letra de info\n",
    "print(info[0:5:2]) # paso = 2 (de dos en dos)\n"
   ]
  },
  {
   "cell_type": "markdown",
   "metadata": {},
   "source": [
    "-   **Sequence of operations with strings**\n",
    "\n",
    "    We can bind a string to another variable. It is helpful to think of string as a list or tuple. We can treat the string as a sequence and perform sequence operations. This means you cannot change the value of the string, but you can create a new string. For example, you can create a new string by setting it to the original variable and concatenate it with a new string. The result is a new string that changes from Michael Jackson to Michael Jackson is the best. Strings are immutable. Back slashes represent the beginning of escape sequences."
   ]
  },
  {
   "cell_type": "code",
   "execution_count": 1005,
   "metadata": {},
   "outputs": [
    {
     "name": "stdout",
     "output_type": "stream",
     "text": [
      "Michael Jackson is the best\n"
     ]
    },
    {
     "data": {
      "text/plain": [
       "'Michael Jakson Michael Jakson Michael Jakson '"
      ]
     },
     "execution_count": 1005,
     "metadata": {},
     "output_type": "execute_result"
    }
   ],
   "source": [
    "name = \"Michael Jackson\"\n",
    "statement = name + \" is the best\"\n",
    "print(statement)\n",
    "3*\"Michael Jakson \""
   ]
  },
  {
   "cell_type": "code",
   "execution_count": 1006,
   "metadata": {},
   "outputs": [
    {
     "name": "stdout",
     "output_type": "stream",
     "text": [
      "A,B,C,D,E\n",
      "A->B->C->D->E\n",
      "|1|2|3|\n"
     ]
    }
   ],
   "source": [
    "print(\",\".join(\"ABCDE\")) ,\n",
    "print(\"->\".join(\"ABCDE\")) ,\n",
    "print(\"|\" + \"|\".join(\"123\") + \"|\")"
   ]
  },
  {
   "cell_type": "code",
   "execution_count": 1007,
   "metadata": {},
   "outputs": [
    {
     "name": "stdout",
     "output_type": "stream",
     "text": [
      "c\n"
     ]
    }
   ],
   "source": [
    "info=\"abcdef\"\n",
    "len(info)\n",
    "print(info[2:5:3])"
   ]
  },
  {
   "cell_type": "code",
   "execution_count": 1008,
   "metadata": {},
   "outputs": [
    {
     "name": "stdout",
     "output_type": "stream",
     "text": [
      "fedcba\n"
     ]
    }
   ],
   "source": [
    "cadena_invertida = info[::-1]\n",
    "print(cadena_invertida)"
   ]
  },
  {
   "cell_type": "markdown",
   "metadata": {},
   "source": [
    "-   **Find and slipt**\n",
    "\n",
    "    We can split a variable that has several words and then search each word separately."
   ]
  },
  {
   "cell_type": "code",
   "execution_count": 1009,
   "metadata": {},
   "outputs": [
    {
     "name": "stdout",
     "output_type": "stream",
     "text": [
      "['Hellow', 'world', ',', 'my', 'name', 'is', 'Pyhon']\n"
     ]
    },
    {
     "data": {
      "text/plain": [
       "['Hellow', 'world', ',', 'my', 'name', 'is', 'Pyhon']"
      ]
     },
     "execution_count": 1009,
     "metadata": {},
     "output_type": "execute_result"
    }
   ],
   "source": [
    "phrase = \"Hellow world , my name is Pyhon\"\n",
    "x = phrase.split(\" \")\n",
    "print(x) #or\n",
    "phrase.split(\" \")\n"
   ]
  },
  {
   "cell_type": "code",
   "execution_count": 1010,
   "metadata": {},
   "outputs": [
    {
     "data": {
      "text/plain": [
       "list"
      ]
     },
     "execution_count": 1010,
     "metadata": {},
     "output_type": "execute_result"
    }
   ],
   "source": [
    "type(x)"
   ]
  },
  {
   "cell_type": "code",
   "execution_count": 1011,
   "metadata": {},
   "outputs": [
    {
     "name": "stdout",
     "output_type": "stream",
     "text": [
      "my\n",
      "['my', 'name']\n"
     ]
    }
   ],
   "source": [
    "print(x[3]), \n",
    "print(x[3:5])"
   ]
  },
  {
   "cell_type": "code",
   "execution_count": 1012,
   "metadata": {},
   "outputs": [
    {
     "data": {
      "text/plain": [
       "['Hellow', 'world', 'my', 'name', 'is', 'Pyhon']"
      ]
     },
     "execution_count": 1012,
     "metadata": {},
     "output_type": "execute_result"
    }
   ],
   "source": [
    "phrase2 = \"Hellow,world,my,name,is,Pyhon\"\n",
    "phrase2.split(',')\n"
   ]
  },
  {
   "cell_type": "code",
   "execution_count": 1013,
   "metadata": {},
   "outputs": [
    {
     "name": "stdout",
     "output_type": "stream",
     "text": [
      "['1', '2', '3']\n"
     ]
    }
   ],
   "source": [
    "x = \"1|2|3\"\n",
    "print(x.split(\"|\"))"
   ]
  },
  {
   "cell_type": "markdown",
   "metadata": {},
   "source": [
    "###  **Ejercicio 1: Implementar un programa que calcule la edad de una persona al ingresar su fecha de nacimiento en formato DD/MM/YY.**\n",
    "\n",
    "Ejemplo: \n",
    "\n",
    "```\n",
    "Ingrese su fecha de nacimiento: 12/02/2005\n",
    "Su edad es 17\n",
    "```"
   ]
  },
  {
   "cell_type": "code",
   "execution_count": 1014,
   "metadata": {},
   "outputs": [
    {
     "name": "stdout",
     "output_type": "stream",
     "text": [
      "['6']\n"
     ]
    },
    {
     "ename": "IndexError",
     "evalue": "list index out of range",
     "output_type": "error",
     "traceback": [
      "\u001b[1;31m---------------------------------------------------------------------------\u001b[0m",
      "\u001b[1;31mIndexError\u001b[0m                                Traceback (most recent call last)",
      "Cell \u001b[1;32mIn[1014], line 4\u001b[0m\n\u001b[0;32m      2\u001b[0m age \u001b[39m=\u001b[39m date\u001b[39m.\u001b[39msplit(\u001b[39m\"\u001b[39m\u001b[39m/\u001b[39m\u001b[39m\"\u001b[39m)\n\u001b[0;32m      3\u001b[0m \u001b[39mprint\u001b[39m(age)\n\u001b[1;32m----> 4\u001b[0m result \u001b[39m=\u001b[39m \u001b[39m2022\u001b[39m \u001b[39m-\u001b[39m \u001b[39mint\u001b[39m(age[\u001b[39m2\u001b[39;49m])\n\u001b[0;32m      5\u001b[0m \u001b[39mprint\u001b[39m(\u001b[39m'\u001b[39m\u001b[39mSu edad es: \u001b[39m\u001b[39m'\u001b[39m,result)\n",
      "\u001b[1;31mIndexError\u001b[0m: list index out of range"
     ]
    }
   ],
   "source": [
    "date = input(\"Ingrese su fecha de nacimiento en el siguiente fomrato DD/MM/YYYY\")\n",
    "age = date.split(\"/\")\n",
    "print(age)\n",
    "result = 2022 - int(age[2])\n",
    "print('Su edad es: ',result)"
   ]
  },
  {
   "cell_type": "markdown",
   "metadata": {},
   "source": [
    "### **Ejercicio 2: Implemente un programa que solicite ingresar un número entero positivo y que retorne si el número es múltiplo de 3.**\n",
    "\n",
    "Ejemplo: \n",
    "\n",
    "```\n",
    "Ingrese el numero: 18\n",
    "El numero 18 es multiplo de 3\n",
    "```"
   ]
  },
  {
   "cell_type": "code",
   "execution_count": 1016,
   "metadata": {},
   "outputs": [
    {
     "ename": "SyntaxError",
     "evalue": "invalid syntax. Maybe you meant '==' or ':=' instead of '='? (3168447908.py, line 1)",
     "output_type": "error",
     "traceback": [
      "\u001b[1;36m  Cell \u001b[1;32mIn[1016], line 1\u001b[1;36m\u001b[0m\n\u001b[1;33m    n = input(\"Ingrese numero a determinar multiplicidad\"), a = input(\"Ingrese numero a \"),\u001b[0m\n\u001b[1;37m    ^\u001b[0m\n\u001b[1;31mSyntaxError\u001b[0m\u001b[1;31m:\u001b[0m invalid syntax. Maybe you meant '==' or ':=' instead of '='?\n"
     ]
    }
   ],
   "source": [
    "n = input(\"Ingrese numero a determinar multiplicidad\"), a = input(\"Ingrese numero a \"), \n",
    "print(n)\n"
   ]
  }
 ],
 "metadata": {
  "kernelspec": {
   "display_name": "Python 3.11.0 64-bit",
   "language": "python",
   "name": "python3"
  },
  "language_info": {
   "codemirror_mode": {
    "name": "ipython",
    "version": 3
   },
   "file_extension": ".py",
   "mimetype": "text/x-python",
   "name": "python",
   "nbconvert_exporter": "python",
   "pygments_lexer": "ipython3",
   "version": "3.11.0"
  },
  "orig_nbformat": 4,
  "vscode": {
   "interpreter": {
    "hash": "dd52d00ba46645e1274d8513d26904c232551468df8b8dd20c2a8a30d9bbf604"
   }
  }
 },
 "nbformat": 4,
 "nbformat_minor": 2
}
