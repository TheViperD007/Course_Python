{
 "cells": [
  {
   "attachments": {},
   "cell_type": "markdown",
   "metadata": {},
   "source": [
    "![picture](https://lh5.googleusercontent.com/3gK4qlljbD8APqYCbmXHh45g3bNFTVURIbFWp9dyAHk9zLBiKxOBjqatngyoApTMCbM=w2400)\n"
   ]
  },
  {
   "attachments": {},
   "cell_type": "markdown",
   "metadata": {},
   "source": [
    "# **III. Python programming fundamentals**\n",
    "\n",
    "## **3.1. Comparison Operators**\n",
    "\n",
    "Comparison operations compares some value or operand. Then based on some condition, they produce a Boolean. Let's say we assign a value of a to six. We can use the equality operator denoted with two equal signs to determine if two values are equal. In this case, if seven is equal to six. In this case, as six is not equal to seven, the result is false. If we performed an equality test for the value six, the two values would be equal. As a result, we would get a true. Consider the following equality comparison operator: If the value of the left operand, in this case, the variable i is greater than the value of the right operand, in this case five, the condition becomes true or else we get a false. Let's display some values for i on the left. Let's see the value is greater than five in green and the rest in red. If we set i equal to six, we see that six is larger than five and as a result, we get a true. We can also apply the same operations to floats. If we modify the operator as follows, if the left operand i is greater than or equal to the value of the right operand, in this case five, then the condition becomes true. In this case, we include the value of five in the number line and the color changes to green accordingly. If we set the value of i equal to five, the operand will produce a true. If we set the value of i to two, we would get a false because two is less than five. We can change the inequality if the value of the left operand, in this case, i is less than the value of the right operand, in this case, six. Then condition becomes true. Again, we can represent this with a colored number line. The areas where the inequality is true are marked in green and red where the inequality is false. If the value for i is set to two, the result is a true. As two is less than six. The inequality test uses an explanation mark preceding the equal sign. If two operands are not equal, then the condition becomes true. We can use a number line. When the condition is true, the corresponding numbers are marked in green and red for where the condition is false. If we set i equal to two, the operator is true as two is not equal to six. We compare strings as well. Comparing ACDC and Michael Jackson using the equality test, we get a false, as the strings are not the same. Using the inequality test, we get a true, as the strings are different. "
   ]
  }
 ],
 "metadata": {
  "kernelspec": {
   "display_name": "Python 3",
   "language": "python",
   "name": "python3"
  },
  "language_info": {
   "name": "python",
   "version": "3.11.0 (main, Oct 24 2022, 18:26:48) [MSC v.1933 64 bit (AMD64)]"
  },
  "orig_nbformat": 4,
  "vscode": {
   "interpreter": {
    "hash": "dd52d00ba46645e1274d8513d26904c232551468df8b8dd20c2a8a30d9bbf604"
   }
  }
 },
 "nbformat": 4,
 "nbformat_minor": 2
}
