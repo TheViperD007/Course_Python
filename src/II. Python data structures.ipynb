{
 "cells": [
  {
   "cell_type": "markdown",
   "metadata": {},
   "source": [
    "![picture](https://lh5.googleusercontent.com/3gK4qlljbD8APqYCbmXHh45g3bNFTVURIbFWp9dyAHk9zLBiKxOBjqatngyoApTMCbM=w2400)\n"
   ]
  },
  {
   "attachments": {},
   "cell_type": "markdown",
   "metadata": {},
   "source": [
    "# **II. Python Data Structures**\n",
    "\n",
    "## **2.1. List and Tuples**\n",
    "\n",
    "These are called compound data types and are one of the key types of data structures in Python. Tuples. Tuples are an ordered sequence. Here is a tuple ratings. Tuples are expressed as comma separated elements within parentheses. These are values inside the parentheses. In Python, there are different types: strings, integer, float. They can all be contained in a tuple but the type of the variable is **tuple**.\n",
    "\n",
    "![picture](https://lh6.googleusercontent.com/tcnW-z2qCE9xexxdXvgdSQF8WVH5pnajjdXyYv81MRTLEScw6Kswa_1vZvFL-w-BcCU=w2400)\n",
    "\n",
    "Each element of a tuple can be accessed via an index.\n",
    "\n",
    "![picture](https://lh3.googleusercontent.com/FDryVQ6e_v-K5hNcC7z2wcNl8b3u5VRXGDK5ZvYBsfA8XgUtECkq64aezPM3yg4BS9U=w2400)\n",
    "\n",
    "We can concatenate or combine tuples by adding them. The result is the following with the following index. If we would like multiple elements from a tuple, we could also slice tuples. For example, if we want the first three elements we use the following command. The last index is one larger than the index you want; similarly if we want the last two elements, we use the following command.\n",
    "Notice, how the last index is one larger than the length of the tuple.We can use the len command to obtain the length of a tuple. As there are five elements, the result is 5.\n",
    "\n",
    "**Tuples are inmmutables**\n",
    "Tuples are immutable which means we can't change them. As a consequence of immutability, if we would like to manipulate a tuple we must create a new tuple instead. "
   ]
  },
  {
   "cell_type": "code",
   "execution_count": 76,
   "metadata": {},
   "outputs": [
    {
     "name": "stdout",
     "output_type": "stream",
     "text": [
      "('disco', 10, 1.2, 'hard rock', 7)\n"
     ]
    },
    {
     "data": {
      "text/plain": [
       "(10, 7, ('disco', 10, 1.2), ('hard rock', 7))"
      ]
     },
     "execution_count": 76,
     "metadata": {},
     "output_type": "execute_result"
    }
   ],
   "source": [
    "Tuple1 = (\"disco\",10,1.2)\n",
    "Tuple2 = Tuple1 + (\"hard rock\",7)\n",
    "print(Tuple2)\n",
    "Tuple2[1],Tuple2[-1], Tuple2[0:3], Tuple2[3:5]"
   ]
  },
  {
   "cell_type": "code",
   "execution_count": 77,
   "metadata": {},
   "outputs": [
    {
     "data": {
      "text/plain": [
       "5"
      ]
     },
     "execution_count": 77,
     "metadata": {},
     "output_type": "execute_result"
    }
   ],
   "source": [
    "len(Tuple2)"
   ]
  },
  {
   "attachments": {},
   "cell_type": "markdown",
   "metadata": {},
   "source": [
    "For example, if we would like to sort a tuple we use the function sorted. The input is the original tuple, the output is a new sorted list."
   ]
  },
  {
   "cell_type": "code",
   "execution_count": 78,
   "metadata": {},
   "outputs": [
    {
     "name": "stdout",
     "output_type": "stream",
     "text": [
      "[2, 5, 6, 6, 8, 9, 9, 10, 10]\n"
     ]
    }
   ],
   "source": [
    "Ratings = (10,9,6,5,10,8,9,6,2)\n",
    "RatingsSorted = sorted(Ratings)\n",
    "print(RatingsSorted)"
   ]
  },
  {
   "attachments": {},
   "cell_type": "markdown",
   "metadata": {},
   "source": [
    "**Tuples: Nesting**\n",
    "\n",
    "A tuple can contain other tuples as well as other complex data types. This is called nesting. We can access these elements using the standard indexing methods.  If we select an index with a tuple, the same index convention applies. As such, we can then access values in the tuple. For example, we could access the second element. We can apply this indexing directly to the tuple variable NT.\n",
    "\n",
    "![picture](https://lh3.googleusercontent.com/NlvplIGbMi3psLm5tMpWUyK6ZA6nnaMUSKWyGbDHXnfFCd9lPvaolMFbcRG4LFAl9xg=w2400)\n",
    "\n",
    "It is helpful to visualize this as a tree. We can visualize this nesting as a tree. The tuple has the following indexes. If we consider indexes with other tuples, we see the tuple at index 2 contains a tuple with two elements. We can access those two indexes. The same convention applies to index 3. We can access the elements in those tuples as well. We can continue the process. We can even access deeper levels of the tree by adding another square bracket.\n",
    "\n",
    "![picture](https://lh3.googleusercontent.com/j_4PtCbxPlWvar57rWxG8Lzpvc2hpVy7LrBK-lY6Roi4lttOCxvfTsp-k9HUJIQ5Dss=w2400)"
   ]
  },
  {
   "cell_type": "code",
   "execution_count": 79,
   "metadata": {},
   "outputs": [
    {
     "data": {
      "text/plain": [
       "(('pop', 'rock'), ('disco', (1, 2)), 'pop', 'r', 'o')"
      ]
     },
     "execution_count": 79,
     "metadata": {},
     "output_type": "execute_result"
    }
   ],
   "source": [
    "NT = (1,2,(\"pop\",\"rock\"),(3,4),(\"disco\",(1,2)))\n",
    "NT[2] , NT[4], NT[2][0], NT[2][1][0],NT[4][0][4]"
   ]
  }
 ],
 "metadata": {
  "kernelspec": {
   "display_name": "Python 3.11.0 64-bit",
   "language": "python",
   "name": "python3"
  },
  "language_info": {
   "codemirror_mode": {
    "name": "ipython",
    "version": 3
   },
   "file_extension": ".py",
   "mimetype": "text/x-python",
   "name": "python",
   "nbconvert_exporter": "python",
   "pygments_lexer": "ipython3",
   "version": "3.11.0"
  },
  "orig_nbformat": 4,
  "vscode": {
   "interpreter": {
    "hash": "dd52d00ba46645e1274d8513d26904c232551468df8b8dd20c2a8a30d9bbf604"
   }
  }
 },
 "nbformat": 4,
 "nbformat_minor": 2
}
