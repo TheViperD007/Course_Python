{
 "cells": [
  {
   "cell_type": "markdown",
   "metadata": {},
   "source": [
    "![picture](https://lh5.googleusercontent.com/3gK4qlljbD8APqYCbmXHh45g3bNFTVURIbFWp9dyAHk9zLBiKxOBjqatngyoApTMCbM=w2400)\n"
   ]
  },
  {
   "attachments": {},
   "cell_type": "markdown",
   "metadata": {},
   "source": [
    "# **II. Python Data Structures**\n",
    "\n",
    "## **2.1. Tuples**\n",
    "\n",
    "These are called compound data types and are one of the key types of data structures in Python. Tuples. Tuples are an ordered sequence. Here is a tuple ratings. Tuples are expressed as comma separated elements within parentheses. These are values inside the parentheses. In Python, there are different types: strings, integer, float. They can all be contained in a tuple but the type of the variable is **tuple**.\n",
    "\n",
    "![picture](https://lh6.googleusercontent.com/tcnW-z2qCE9xexxdXvgdSQF8WVH5pnajjdXyYv81MRTLEScw6Kswa_1vZvFL-w-BcCU=w2400)\n",
    "\n",
    "Each element of a tuple can be accessed via an index.\n",
    "\n",
    "![picture](https://lh3.googleusercontent.com/FDryVQ6e_v-K5hNcC7z2wcNl8b3u5VRXGDK5ZvYBsfA8XgUtECkq64aezPM3yg4BS9U=w2400)\n",
    "\n",
    "We can concatenate or combine tuples by adding them. The result is the following with the following index. If we would like multiple elements from a tuple, we could also slice tuples. For example, if we want the first three elements we use the following command. The last index is one larger than the index you want; similarly if we want the last two elements, we use the following command.\n",
    "Notice, how the last index is one larger than the length of the tuple.We can use the len command to obtain the length of a tuple. As there are five elements, the result is 5.\n",
    "\n",
    "**Tuples are inmmutables**\n",
    "Tuples are immutable which means we can't change them. As a consequence of immutability, if we would like to manipulate a tuple we must create a new tuple instead. "
   ]
  },
  {
   "cell_type": "code",
   "execution_count": 382,
   "metadata": {},
   "outputs": [
    {
     "name": "stdout",
     "output_type": "stream",
     "text": [
      "('disco', 10, 1.2, 'hard rock', 7)\n"
     ]
    },
    {
     "data": {
      "text/plain": [
       "(10, 7, ('disco', 10, 1.2), ('hard rock', 7))"
      ]
     },
     "execution_count": 382,
     "metadata": {},
     "output_type": "execute_result"
    }
   ],
   "source": [
    "Tuple1 = (\"disco\",10,1.2)\n",
    "Tuple2 = Tuple1 + (\"hard rock\",7)\n",
    "print(Tuple2)\n",
    "Tuple2[1],Tuple2[-1], Tuple2[0:3], Tuple2[3:5]"
   ]
  },
  {
   "cell_type": "code",
   "execution_count": 383,
   "metadata": {},
   "outputs": [
    {
     "data": {
      "text/plain": [
       "5"
      ]
     },
     "execution_count": 383,
     "metadata": {},
     "output_type": "execute_result"
    }
   ],
   "source": [
    "len(Tuple2)"
   ]
  },
  {
   "attachments": {},
   "cell_type": "markdown",
   "metadata": {},
   "source": [
    "For example, if we would like to sort a tuple we use the function sorted. The input is the original tuple, the output is a new sorted list."
   ]
  },
  {
   "cell_type": "code",
   "execution_count": 384,
   "metadata": {},
   "outputs": [
    {
     "name": "stdout",
     "output_type": "stream",
     "text": [
      "[2, 5, 6, 6, 8, 9, 9, 10, 10]\n"
     ]
    }
   ],
   "source": [
    "Ratings = (10,9,6,5,10,8,9,6,2)\n",
    "RatingsSorted = sorted(Ratings)\n",
    "print(RatingsSorted)"
   ]
  },
  {
   "attachments": {},
   "cell_type": "markdown",
   "metadata": {},
   "source": [
    "**Tuples: Nesting**\n",
    "\n",
    "A tuple can contain other tuples as well as other complex data types. This is called nesting. We can access these elements using the standard indexing methods.  If we select an index with a tuple, the same index convention applies. As such, we can then access values in the tuple. For example, we could access the second element. We can apply this indexing directly to the tuple variable NT.\n",
    "\n",
    "![picture](https://lh3.googleusercontent.com/NlvplIGbMi3psLm5tMpWUyK6ZA6nnaMUSKWyGbDHXnfFCd9lPvaolMFbcRG4LFAl9xg=w2400)\n",
    "\n",
    "It is helpful to visualize this as a tree. We can visualize this nesting as a tree. The tuple has the following indexes. If we consider indexes with other tuples, we see the tuple at index 2 contains a tuple with two elements. We can access those two indexes. The same convention applies to index 3. We can access the elements in those tuples as well. We can continue the process. We can even access deeper levels of the tree by adding another square bracket.\n",
    "\n",
    "![picture](https://lh3.googleusercontent.com/j_4PtCbxPlWvar57rWxG8Lzpvc2hpVy7LrBK-lY6Roi4lttOCxvfTsp-k9HUJIQ5Dss=w2400)"
   ]
  },
  {
   "cell_type": "code",
   "execution_count": 385,
   "metadata": {},
   "outputs": [
    {
     "data": {
      "text/plain": [
       "(('pop', 'rock'), ('disco', (1, 2)), 'pop', 'r', 'o')"
      ]
     },
     "execution_count": 385,
     "metadata": {},
     "output_type": "execute_result"
    }
   ],
   "source": [
    "NT = (1,2,(\"pop\",\"rock\"),(3,4),(\"disco\",(1,2)))\n",
    "NT[2] , NT[4], NT[2][0], NT[2][1][0],NT[4][0][4]"
   ]
  },
  {
   "attachments": {},
   "cell_type": "markdown",
   "metadata": {},
   "source": [
    "## **2.2. List**\n",
    "Lists are also a popular data structure in Python. Lists are also an ordered sequence. Here is a list, \"L.\" A list is represented with **square brackets**. In many respect, lists are like tuples. One key difference is **they are mutable**. Lists can contain strings, floats, integers. We can nest other lists. We also nest tuples and other data structures. The same indexing conventions apply for nesting Like tuples, each element of a list can be accessed via an index."
   ]
  },
  {
   "cell_type": "code",
   "execution_count": 386,
   "metadata": {},
   "outputs": [
    {
     "data": {
      "text/plain": [
       "(('A', 1), [1982, [1, 2], ('A', 1)])"
      ]
     },
     "execution_count": 386,
     "metadata": {},
     "output_type": "execute_result"
    }
   ],
   "source": [
    "L =[\"Michael Jackson\",10.1,1982,[1,2],('A',1)]\n",
    "L[4] , L[2:5] ##List slicing"
   ]
  },
  {
   "cell_type": "code",
   "execution_count": 387,
   "metadata": {},
   "outputs": [
    {
     "name": "stdout",
     "output_type": "stream",
     "text": [
      "['Michael Jackson', 10.1, 1982, [1, 2], ('A', 1), 'pop', 10]\n"
     ]
    }
   ],
   "source": [
    "L1 = L + [\"pop\",10]\n",
    "print(L1)"
   ]
  },
  {
   "attachments": {},
   "cell_type": "markdown",
   "metadata": {},
   "source": [
    "Lists are mutable, therefore we can change them. For example, we apply the method extends by adding a dot followed by the name of the method then parentheses. The argument inside the parentheses is a new list that we are going to concatenate to the original list. In this case, instead of creating a new list, \"L1,\" the original list, \"L,\" is modified by adding two new elements. "
   ]
  },
  {
   "cell_type": "code",
   "execution_count": 388,
   "metadata": {},
   "outputs": [
    {
     "name": "stdout",
     "output_type": "stream",
     "text": [
      "['Michael Jackson', 10.1, 1982, [1, 2], ('A', 1), 'pop', 10]\n"
     ]
    },
    {
     "data": {
      "text/plain": [
       "7"
      ]
     },
     "execution_count": 388,
     "metadata": {},
     "output_type": "execute_result"
    }
   ],
   "source": [
    "L.extend([\"pop\",10])\n",
    "print(L)\n",
    "len(L)"
   ]
  },
  {
   "attachments": {},
   "cell_type": "markdown",
   "metadata": {},
   "source": [
    "Another similar method is append. If we apply append instead of extended, we add one element to the list. If we look at the index there is only one more element. Not 2."
   ]
  },
  {
   "cell_type": "code",
   "execution_count": 389,
   "metadata": {},
   "outputs": [
    {
     "name": "stdout",
     "output_type": "stream",
     "text": [
      "['Michael Jackson', 10.1, 1982, [1, 2], ('A', 1), 'pop', 10, ['pop', 10]]\n"
     ]
    },
    {
     "data": {
      "text/plain": [
       "8"
      ]
     },
     "execution_count": 389,
     "metadata": {},
     "output_type": "execute_result"
    }
   ],
   "source": [
    "L.append([\"pop\",10])\n",
    "print(L)\n",
    "len(L)"
   ]
  },
  {
   "attachments": {},
   "cell_type": "markdown",
   "metadata": {},
   "source": [
    "As lists are mutable we can change them. For example, we can change the first element as follows. The list now becomes hard rock. We can delete an element of a list using the del command. We simply indicate the list item we would like to remove as an argument. For example, if we would like to remove the first element the result becomes 10 1.2..\n"
   ]
  },
  {
   "cell_type": "code",
   "execution_count": 390,
   "metadata": {},
   "outputs": [
    {
     "name": "stdout",
     "output_type": "stream",
     "text": [
      "['hard rock', 10, 1.2]\n"
     ]
    }
   ],
   "source": [
    "A = [\"disco\",10,1.2]\n",
    "A[0] = \"hard rock\"\n",
    "print(A)"
   ]
  },
  {
   "cell_type": "code",
   "execution_count": 391,
   "metadata": {},
   "outputs": [
    {
     "name": "stdout",
     "output_type": "stream",
     "text": [
      "[10, 1.2]\n"
     ]
    }
   ],
   "source": [
    "del(A[0])\n",
    "print(A)"
   ]
  },
  {
   "attachments": {},
   "cell_type": "markdown",
   "metadata": {},
   "source": [
    "We can convert a string to a list using split. For example, the method split converts every group of characters separated by a space into an element of a list. We can use the split function to separate strings on a specific character known, as a delimiter. We simply pass the delimiter we would like to split on as an argument, in this case a comma. The result is a list. Each element corresponds to a set of characters that have been separated by a comma."
   ]
  },
  {
   "cell_type": "code",
   "execution_count": 392,
   "metadata": {},
   "outputs": [
    {
     "data": {
      "text/plain": [
       "['hard', 'rock']"
      ]
     },
     "execution_count": 392,
     "metadata": {},
     "output_type": "execute_result"
    }
   ],
   "source": [
    "\"hard rock\".split()"
   ]
  },
  {
   "cell_type": "code",
   "execution_count": 393,
   "metadata": {},
   "outputs": [
    {
     "data": {
      "text/plain": [
       "['A', 'B', 'C', 'D']"
      ]
     },
     "execution_count": 393,
     "metadata": {},
     "output_type": "execute_result"
    }
   ],
   "source": [
    "\"A,B,C,D\".split(\",\")"
   ]
  },
  {
   "attachments": {},
   "cell_type": "markdown",
   "metadata": {},
   "source": [
    "When we set one variable B equal to A, both A and B are referencing the same list. Multiple names referring to the same object is known as aliasing. We know from the list slide that the first element in B is set as 10. If we change the first element in A to banana, we get a side effect, the value of B will change as a consequence. A and B are referencing the same list, therefore if we change A, list B also changes. If we check the first element of B after changing list A, we get banana instead of 10."
   ]
  },
  {
   "cell_type": "code",
   "execution_count": 394,
   "metadata": {},
   "outputs": [
    {
     "name": "stdout",
     "output_type": "stream",
     "text": [
      "[10, 1.2]\n"
     ]
    }
   ],
   "source": [
    "print(A)\n",
    "A.extend([\"hard rock\",10])\n",
    "B=A"
   ]
  },
  {
   "cell_type": "code",
   "execution_count": 395,
   "metadata": {},
   "outputs": [
    {
     "name": "stdout",
     "output_type": "stream",
     "text": [
      "['banana', 1.2, 'hard rock', 10]\n",
      "banana\n"
     ]
    }
   ],
   "source": [
    "B[0]\n",
    "B[0] = \"banana\"\n",
    "print(A)\n",
    "print(A[0])"
   ]
  },
  {
   "attachments": {},
   "cell_type": "markdown",
   "metadata": {},
   "source": [
    "You can clone list A by using the following syntax. Variable A references one list. Variable B references a new copy or clone of the original list. Now if you change A, B will not change. We can get more info on lists, tuples, and many other objects in Python using the help command. Simply pass in the list, tuple, or any other Python object."
   ]
  },
  {
   "cell_type": "code",
   "execution_count": 396,
   "metadata": {},
   "outputs": [
    {
     "name": "stdout",
     "output_type": "stream",
     "text": [
      "['banana', 1.2, 'hard rock', 10]\n",
      "['banana', 1.2, 'hard rock', 10]\n",
      "banana\n",
      "['milagros', 1.2, 'hard rock', 10]\n"
     ]
    }
   ],
   "source": [
    "C = A[:]\n",
    "print(C)\n",
    "C[0] = \"milagros\"\n",
    "print(A)\n",
    "print(A[0])\n",
    "print(C)\n"
   ]
  },
  {
   "cell_type": "code",
   "execution_count": 397,
   "metadata": {},
   "outputs": [
    {
     "name": "stdout",
     "output_type": "stream",
     "text": [
      "Help on list object:\n",
      "\n",
      "class list(object)\n",
      " |  list(iterable=(), /)\n",
      " |  \n",
      " |  Built-in mutable sequence.\n",
      " |  \n",
      " |  If no argument is given, the constructor creates a new empty list.\n",
      " |  The argument must be an iterable if specified.\n",
      " |  \n",
      " |  Methods defined here:\n",
      " |  \n",
      " |  __add__(self, value, /)\n",
      " |      Return self+value.\n",
      " |  \n",
      " |  __contains__(self, key, /)\n",
      " |      Return key in self.\n",
      " |  \n",
      " |  __delitem__(self, key, /)\n",
      " |      Delete self[key].\n",
      " |  \n",
      " |  __eq__(self, value, /)\n",
      " |      Return self==value.\n",
      " |  \n",
      " |  __ge__(self, value, /)\n",
      " |      Return self>=value.\n",
      " |  \n",
      " |  __getattribute__(self, name, /)\n",
      " |      Return getattr(self, name).\n",
      " |  \n",
      " |  __getitem__(...)\n",
      " |      x.__getitem__(y) <==> x[y]\n",
      " |  \n",
      " |  __gt__(self, value, /)\n",
      " |      Return self>value.\n",
      " |  \n",
      " |  __iadd__(self, value, /)\n",
      " |      Implement self+=value.\n",
      " |  \n",
      " |  __imul__(self, value, /)\n",
      " |      Implement self*=value.\n",
      " |  \n",
      " |  __init__(self, /, *args, **kwargs)\n",
      " |      Initialize self.  See help(type(self)) for accurate signature.\n",
      " |  \n",
      " |  __iter__(self, /)\n",
      " |      Implement iter(self).\n",
      " |  \n",
      " |  __le__(self, value, /)\n",
      " |      Return self<=value.\n",
      " |  \n",
      " |  __len__(self, /)\n",
      " |      Return len(self).\n",
      " |  \n",
      " |  __lt__(self, value, /)\n",
      " |      Return self<value.\n",
      " |  \n",
      " |  __mul__(self, value, /)\n",
      " |      Return self*value.\n",
      " |  \n",
      " |  __ne__(self, value, /)\n",
      " |      Return self!=value.\n",
      " |  \n",
      " |  __repr__(self, /)\n",
      " |      Return repr(self).\n",
      " |  \n",
      " |  __reversed__(self, /)\n",
      " |      Return a reverse iterator over the list.\n",
      " |  \n",
      " |  __rmul__(self, value, /)\n",
      " |      Return value*self.\n",
      " |  \n",
      " |  __setitem__(self, key, value, /)\n",
      " |      Set self[key] to value.\n",
      " |  \n",
      " |  __sizeof__(self, /)\n",
      " |      Return the size of the list in memory, in bytes.\n",
      " |  \n",
      " |  append(self, object, /)\n",
      " |      Append object to the end of the list.\n",
      " |  \n",
      " |  clear(self, /)\n",
      " |      Remove all items from list.\n",
      " |  \n",
      " |  copy(self, /)\n",
      " |      Return a shallow copy of the list.\n",
      " |  \n",
      " |  count(self, value, /)\n",
      " |      Return number of occurrences of value.\n",
      " |  \n",
      " |  extend(self, iterable, /)\n",
      " |      Extend list by appending elements from the iterable.\n",
      " |  \n",
      " |  index(self, value, start=0, stop=9223372036854775807, /)\n",
      " |      Return first index of value.\n",
      " |      \n",
      " |      Raises ValueError if the value is not present.\n",
      " |  \n",
      " |  insert(self, index, object, /)\n",
      " |      Insert object before index.\n",
      " |  \n",
      " |  pop(self, index=-1, /)\n",
      " |      Remove and return item at index (default last).\n",
      " |      \n",
      " |      Raises IndexError if list is empty or index is out of range.\n",
      " |  \n",
      " |  remove(self, value, /)\n",
      " |      Remove first occurrence of value.\n",
      " |      \n",
      " |      Raises ValueError if the value is not present.\n",
      " |  \n",
      " |  reverse(self, /)\n",
      " |      Reverse *IN PLACE*.\n",
      " |  \n",
      " |  sort(self, /, *, key=None, reverse=False)\n",
      " |      Sort the list in ascending order and return None.\n",
      " |      \n",
      " |      The sort is in-place (i.e. the list itself is modified) and stable (i.e. the\n",
      " |      order of two equal elements is maintained).\n",
      " |      \n",
      " |      If a key function is given, apply it once to each list item and sort them,\n",
      " |      ascending or descending, according to their function values.\n",
      " |      \n",
      " |      The reverse flag can be set to sort in descending order.\n",
      " |  \n",
      " |  ----------------------------------------------------------------------\n",
      " |  Class methods defined here:\n",
      " |  \n",
      " |  __class_getitem__(...) from builtins.type\n",
      " |      See PEP 585\n",
      " |  \n",
      " |  ----------------------------------------------------------------------\n",
      " |  Static methods defined here:\n",
      " |  \n",
      " |  __new__(*args, **kwargs) from builtins.type\n",
      " |      Create and return a new object.  See help(type) for accurate signature.\n",
      " |  \n",
      " |  ----------------------------------------------------------------------\n",
      " |  Data and other attributes defined here:\n",
      " |  \n",
      " |  __hash__ = None\n",
      "\n"
     ]
    }
   ],
   "source": [
    "help(C)"
   ]
  },
  {
   "attachments": {},
   "cell_type": "markdown",
   "metadata": {},
   "source": [
    "## **2.3. Dictionaries**\n",
    "Dictionaries are a type of collection in Python. If you recall, a list is integer indexes. These are like addresses. A list also has elements. A dictionary has keys and values. The key is analogous to the index. They are like addresses, but they don't have to be integers. They are usually characters. The values are similar to the element in a list and contain information.\n",
    "\n",
    "![picture](https://lh6.googleusercontent.com/HsscBBw4QF5e_TUobjpyCcKf_cQchcITqWzO2cZrxGRQyEvksLgtZvn68ATawjYRexs=w2400)\n",
    "\n",
    "Let's cover Dictionaries in Python.  To create a dictionary, we use curly brackets. The keys are the first elements. They must be immutable and unique. Each key is followed by a value separated by a colon. The values can be immutable, mutable, and duplicates. Each key and value pair is separated by a comma.\n",
    "\n",
    "{\"key1\":1, \"key2\":\"2\", \"key3\":[3,3,3],\"key4\":(4,4,4)}\n",
    "\n",
    "Consider the following example of a dictionary. The album title is the key, and the value is the released data. We can use yellow to highlight the keys and leave the values in white. It is helpful to use the table to visualize a dictionary where the first column represents the keys, and the second column represents the values. We can add a few more examples to the dictionary. We can also assign the dictionary to a variable.\n",
    "\n",
    "![image.png](https://lh3.googleusercontent.com/2uwXLKrVVguagEhMRzTLnJscyzQJ10F5q1rnsg79B2VjK-pFLlwiu0bC0S1rKEdYHIk=w2400)\n",
    "\n",
    "The key is used to look at the value. We use square brackets. The argument is the key. This outputs the value. Using the key of \"Back in Black,\" this returns the value of 1980. The key, \"The Dark Side Of The Moon,\" gives us the value of 1973. Using the key,\"The bodyguard,\" gives us the value 1992 and so on.\n",
    "We can add a new entry to the dictionary as follows. This will add the value 2007 with a new key called \"Graduation\"."
   ]
  },
  {
   "cell_type": "code",
   "execution_count": 398,
   "metadata": {},
   "outputs": [
    {
     "name": "stdout",
     "output_type": "stream",
     "text": [
      "{'thriller': '1982', 'bacK in black': '1980', 'the dark side of the moon': '1973', 'the bodyguard': '1992', 'bat out of hell': '1977', 'their greatest': '1976', 'saturday night fever': '1977', 'rumors': '1977', 'graduation': '2007'}\n"
     ]
    }
   ],
   "source": [
    "DICT = {\"thriller\":\"1982\",\"bacK in black\":\"1980\",\"the dark side of the moon\":\"1973\",\"the bodyguard\":\"1992\",\"bat out of hell\":\"1977\",\"their greatest\":\"1976\",\"saturday night fever\":\"1977\",\"rumors\":\"1977\"}\n",
    "DICT[\"graduation\"]=\"2007\"\n",
    "print(DICT)"
   ]
  },
  {
   "cell_type": "code",
   "execution_count": 399,
   "metadata": {},
   "outputs": [
    {
     "data": {
      "text/plain": [
       "'1982'"
      ]
     },
     "execution_count": 399,
     "metadata": {},
     "output_type": "execute_result"
    }
   ],
   "source": [
    "DICT[\"thriller\"]"
   ]
  },
  {
   "attachments": {},
   "cell_type": "markdown",
   "metadata": {},
   "source": [
    "We can delete an entry as follows. This gets rid of the key \"Thriller\" and it's value. We can verify if an element is in the dictionary using the \"in\" command as follows: The command checks the keys. If they are in the dictionary, they return a true. If we try the same command with a key that is not in the dictionary, we get a false."
   ]
  },
  {
   "cell_type": "code",
   "execution_count": 400,
   "metadata": {},
   "outputs": [
    {
     "name": "stdout",
     "output_type": "stream",
     "text": [
      "{'bacK in black': '1980', 'the dark side of the moon': '1973', 'the bodyguard': '1992', 'bat out of hell': '1977', 'their greatest': '1976', 'saturday night fever': '1977', 'rumors': '1977', 'graduation': '2007'}\n"
     ]
    },
    {
     "data": {
      "text/plain": [
       "(True, False)"
      ]
     },
     "execution_count": 400,
     "metadata": {},
     "output_type": "execute_result"
    }
   ],
   "source": [
    "del(DICT['thriller'])\n",
    "print(DICT)\n",
    "\"the bodyguard\" in DICT , \"starboy\" in DICT"
   ]
  },
  {
   "attachments": {},
   "cell_type": "markdown",
   "metadata": {},
   "source": [
    "In order to see all the keys in the dictionary, we can use the method keys to get the keys. The output is a list-like object with all the keys. In the same way, we can obtain the values using the method values."
   ]
  },
  {
   "cell_type": "code",
   "execution_count": 401,
   "metadata": {},
   "outputs": [
    {
     "data": {
      "text/plain": [
       "dict_values(['1980', '1973', '1992', '1977', '1976', '1977', '1977', '2007'])"
      ]
     },
     "execution_count": 401,
     "metadata": {},
     "output_type": "execute_result"
    }
   ],
   "source": [
    "DICT.values()"
   ]
  },
  {
   "cell_type": "code",
   "execution_count": 402,
   "metadata": {},
   "outputs": [
    {
     "data": {
      "text/plain": [
       "dict_keys(['bacK in black', 'the dark side of the moon', 'the bodyguard', 'bat out of hell', 'their greatest', 'saturday night fever', 'rumors', 'graduation'])"
      ]
     },
     "execution_count": 402,
     "metadata": {},
     "output_type": "execute_result"
    }
   ],
   "source": [
    "DICT.keys()"
   ]
  },
  {
   "attachments": {},
   "cell_type": "markdown",
   "metadata": {},
   "source": [
    "## **2.4. Sets**\n",
    "They are also a type of collection.\n",
    "Sets are a type of collection. This means that like lists and tuples, you can input different Python types.\n",
    "Unlike lists and tuples, they are unordered.This means sets do not record element position.\n",
    "Sets only have unique elements. This means there is only one of a particular element in a set.\n",
    "\n",
    "To define a set, you use curly brackets. You place the elements of a set within the curly brackets. You notice there are duplicate items. When the actual set is created, duplicate items will not be present.\n"
   ]
  },
  {
   "cell_type": "code",
   "execution_count": 403,
   "metadata": {},
   "outputs": [
    {
     "name": "stdout",
     "output_type": "stream",
     "text": [
      "{'rock', 'R&B', 'soul', 'hard rock', 'disco', 'pop'}\n"
     ]
    }
   ],
   "source": [
    "Set1 = {\"pop\",\"rock\",\"soul\",\"hard rock\",\"rock\",\"R&B\",\"rock\",\"disco\"}\n",
    "print(Set1)"
   ]
  },
  {
   "attachments": {},
   "cell_type": "markdown",
   "metadata": {},
   "source": [
    "You can convert a list to a set using the function SET, this is called type casting. You simply use the list as the input to the function set. The result will be a list convertered to a set."
   ]
  },
  {
   "cell_type": "code",
   "execution_count": 404,
   "metadata": {},
   "outputs": [
    {
     "name": "stdout",
     "output_type": "stream",
     "text": [
      "{'Michael Jackson', 1982, 'Thriller'}\n"
     ]
    }
   ],
   "source": [
    "album_list = [\"Michael Jackson\" , \"Thriller\" , \"Thriller\", 1982]\n",
    "album_set = set(album_list)\n",
    "print(album_set)"
   ]
  },
  {
   "attachments": {},
   "cell_type": "markdown",
   "metadata": {},
   "source": [
    "Let's go over set operations. These could be used to change the set. Consider the set A. Let's represent this set with a circle. If you are familiar with sets, this could be part of a venn diagram. A venn diagram is a tool that uses shapes usually to represent sets. We can add an item to a set using the add-method. We just put the set name followed by a dot, then the add-method. The argument is the new element of the set we would like to add, in this case, NSYNC. The set A now has in NSYNC as an item. If we add the same item twice, nothing will happen as there can be no duplicates in a set. Let's say we would like to remove NSYNC from set A. We can also remove an item from a set using the remove-method. We just put the set name followed by a dot, then the remove-method. The argument is the element of the set we would like to remove, in this case, NSYNC. After the remove-method is applied to the set, set A does not contain the item NSYNC. You can use this method for any item in the set. We can verify if an element is in the set using the in command as follows. The command checks that the item, in this case AC/DC, is in the set. If the item is in the set, it returns true. If we look for an item that is not in the set, in this case for the item Who, adds the item is not in the set, we will get a false. These are types of mathematical set operations"
   ]
  },
  {
   "cell_type": "code",
   "execution_count": 405,
   "metadata": {},
   "outputs": [
    {
     "name": "stdout",
     "output_type": "stream",
     "text": [
      "{'AC/DC', 'NSYNC', 'Thriller', 'Back in black'}\n",
      "{'AC/DC', 'NSYNC', 'Thriller', 'Back in black'}\n"
     ]
    }
   ],
   "source": [
    "A = {\"AC/DC\",\"Back in black\",\"Thriller\"}\n",
    "A.add(\"NSYNC\")\n",
    "print(A)\n",
    "A.add(\"NSYNC\")\n",
    "print(A)"
   ]
  },
  {
   "cell_type": "code",
   "execution_count": 406,
   "metadata": {},
   "outputs": [
    {
     "name": "stdout",
     "output_type": "stream",
     "text": [
      "{'AC/DC', 'Thriller', 'Back in black'}\n"
     ]
    },
    {
     "data": {
      "text/plain": [
       "(False, True)"
      ]
     },
     "execution_count": 406,
     "metadata": {},
     "output_type": "execute_result"
    }
   ],
   "source": [
    "A.remove(\"NSYNC\")\n",
    "print(A)\n",
    "\"who\" in A , \"AC/DC\" in A"
   ]
  },
  {
   "attachments": {},
   "cell_type": "markdown",
   "metadata": {},
   "source": [
    "There are other operations we can do. There are lots of useful mathematical operations we can do between sets. Let's define the set album set one. We can represent it using a red circle or venn diagram. Similarly, we can define the set album set two. We can also represent it using a blue circle or venn diagram. The intersection of two sets is a new set containing elements which are in both of those sets. It's helpful to use venn diagrams. The two circles that represent the sets combine, the overlap, represents the new set. As the overlap is comprised with the red circle and blue circle, we define the intersection in terms of and. In Python, we use an ampersand to find the intersection of the two sets. If we overlay the values of the set over the circle placing the common elements in the overlapping area, we see the correspondence. After applying the intersection operation, all the items that are not in both sets disappear. In Python, we simply just place the ampersand between the two sets. We see that both AC/DC and Back in Black are in both sets. The result is a new set album: set three containing all the elements in both albums set one and album set two. The union of two sets is the new set of elements which contain all the items in both sets.\n",
    "\n",
    "![picture](https://lh4.googleusercontent.com/tOzROVKFQ101WkKumThabPUU_for45NS8vTTmba02EkUPtHBPqcq1pAAYjnIBwbpLPA=w2400)"
   ]
  },
  {
   "cell_type": "code",
   "execution_count": 407,
   "metadata": {},
   "outputs": [
    {
     "name": "stdout",
     "output_type": "stream",
     "text": [
      "{'AC/DC', 'Back in Black'}\n"
     ]
    }
   ],
   "source": [
    "album_set_1 = {\"AC/DC\",\"Back in Black\",\"Thriller\"}\n",
    "album_set_2 = {\"AC/DC\",\"Back in Black\",\"The Dark Side of the Moon\"}\n",
    "# Find the intersections\n",
    "album_set_3 = album_set_1 & album_set_2\n",
    "print(album_set_3)"
   ]
  },
  {
   "cell_type": "code",
   "execution_count": 408,
   "metadata": {},
   "outputs": [
    {
     "data": {
      "text/plain": [
       "{'Thriller'}"
      ]
     },
     "execution_count": 408,
     "metadata": {},
     "output_type": "execute_result"
    }
   ],
   "source": [
    "# Find the difference in set1 but not set2\n",
    "album_set_1.difference(album_set_2) "
   ]
  },
  {
   "cell_type": "code",
   "execution_count": 409,
   "metadata": {},
   "outputs": [
    {
     "data": {
      "text/plain": [
       "{'The Dark Side of the Moon'}"
      ]
     },
     "execution_count": 409,
     "metadata": {},
     "output_type": "execute_result"
    }
   ],
   "source": [
    "# Find the difference in set2 but not set1\n",
    "album_set_2.difference(album_set_1)  "
   ]
  },
  {
   "attachments": {},
   "cell_type": "markdown",
   "metadata": {},
   "source": [
    "We can find the union of the sets album set one and album set two as follows. The result is a new set that has all the elements of album set one and album set two. This new set is represented in green. \n",
    "\n",
    "![picture](https://lh6.googleusercontent.com/5zFuBhjw__UQYtNqJ0j0XAOheKBXb-tS1xtbhu6s8XHrXJOIqF4B13KzKU70KbKHQP0=w2400)"
   ]
  },
  {
   "cell_type": "code",
   "execution_count": 410,
   "metadata": {},
   "outputs": [
    {
     "data": {
      "text/plain": [
       "{'AC/DC', 'Back in Black', 'The Dark Side of the Moon', 'Thriller'}"
      ]
     },
     "execution_count": 410,
     "metadata": {},
     "output_type": "execute_result"
    }
   ],
   "source": [
    "album_set_1.union(album_set_2)"
   ]
  },
  {
   "attachments": {},
   "cell_type": "markdown",
   "metadata": {},
   "source": [
    "Consider the new album set-album set three. The set contains the elements AC/DC and Back in Black. We can represent this with a Venn diagram, as all the elements and album set three are in album set one. The circle representing album set one encapsulates the circle representing album set three. We can check if a set is a subset using the issubset method. As album set three is a subset of the album set one, the result is true.\n",
    "\n",
    "![picture](https://lh5.googleusercontent.com/vAKkVLIYXU03akCmeCR7AC1AByFSTU1kuuMcGQ9s8L_HhIJTGcW2KpCNoFtLXSThIBE=w2400)"
   ]
  },
  {
   "cell_type": "code",
   "execution_count": 411,
   "metadata": {},
   "outputs": [
    {
     "data": {
      "text/plain": [
       "True"
      ]
     },
     "execution_count": 411,
     "metadata": {},
     "output_type": "execute_result"
    }
   ],
   "source": [
    "# Check if subset\n",
    "album_set_3.issubset(album_set_1)"
   ]
  },
  {
   "cell_type": "code",
   "execution_count": 412,
   "metadata": {},
   "outputs": [
    {
     "data": {
      "text/plain": [
       "False"
      ]
     },
     "execution_count": 412,
     "metadata": {},
     "output_type": "execute_result"
    }
   ],
   "source": [
    "# Check if superset\n",
    "album_set_3.issuperset(album_set_1)"
   ]
  },
  {
   "cell_type": "code",
   "execution_count": 413,
   "metadata": {},
   "outputs": [
    {
     "data": {
      "text/plain": [
       "True"
      ]
     },
     "execution_count": 413,
     "metadata": {},
     "output_type": "execute_result"
    }
   ],
   "source": [
    "# Check if subset\n",
    "set({\"Back in Black\", \"AC/DC\"}).issubset(album_set_1) "
   ]
  },
  {
   "cell_type": "code",
   "execution_count": 414,
   "metadata": {},
   "outputs": [
    {
     "data": {
      "text/plain": [
       "True"
      ]
     },
     "execution_count": 414,
     "metadata": {},
     "output_type": "execute_result"
    }
   ],
   "source": [
    "# Check if superset\n",
    "\n",
    "album_set_1.issuperset({\"Back in Black\", \"AC/DC\"})  "
   ]
  },
  {
   "attachments": {},
   "cell_type": "markdown",
   "metadata": {},
   "source": [
    "\n",
    "\n",
    "| Term               | Definition  |\n",
    "|--------------------|-------------|\n",
    "| Compound data type | A composite of primitive data types. List and tuples are examples. |\n",
    "| Dictionary         |A mutable ordered data structure in Python used to store key-value pairs. A value can be referred to by its key.|\n",
    "| Intersection      | In two or more sets of data, the intersection of those sets is the set of elements that the original data sets have in common.|\n",
    "| List              |A mutable ordered data structure in Python that contains zero or more primitive or compound data type elements.|\n",
    "| Set               |An unordered, mutable collection of unique elements.|\n",
    "| Tuple             |An immutable ordered data structure in Python that contains zero or more primitive or compound data type elements.|\n",
    "| Union             |In two or more sets of data, the union of those data sets is the set of all the elements in each data set.|"
   ]
  }
 ],
 "metadata": {
  "kernelspec": {
   "display_name": "Python 3.11.0 64-bit",
   "language": "python",
   "name": "python3"
  },
  "language_info": {
   "codemirror_mode": {
    "name": "ipython",
    "version": 3
   },
   "file_extension": ".py",
   "mimetype": "text/x-python",
   "name": "python",
   "nbconvert_exporter": "python",
   "pygments_lexer": "ipython3",
   "version": "3.11.0 (main, Oct 24 2022, 18:26:48) [MSC v.1933 64 bit (AMD64)]"
  },
  "orig_nbformat": 4,
  "vscode": {
   "interpreter": {
    "hash": "dd52d00ba46645e1274d8513d26904c232551468df8b8dd20c2a8a30d9bbf604"
   }
  }
 },
 "nbformat": 4,
 "nbformat_minor": 2
}
