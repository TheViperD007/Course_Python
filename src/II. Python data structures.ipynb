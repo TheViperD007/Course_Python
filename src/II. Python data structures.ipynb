{
 "cells": [
  {
   "cell_type": "markdown",
   "metadata": {},
   "source": [
    "![picture](https://lh5.googleusercontent.com/3gK4qlljbD8APqYCbmXHh45g3bNFTVURIbFWp9dyAHk9zLBiKxOBjqatngyoApTMCbM=w2400)\n"
   ]
  },
  {
   "attachments": {},
   "cell_type": "markdown",
   "metadata": {},
   "source": [
    "# **II. Python Data Structures**\n",
    "\n",
    "## **2.1. Tuples**\n",
    "\n",
    "These are called compound data types and are one of the key types of data structures in Python. Tuples. Tuples are an ordered sequence. Here is a tuple ratings. Tuples are expressed as comma separated elements within parentheses. These are values inside the parentheses. In Python, there are different types: strings, integer, float. They can all be contained in a tuple but the type of the variable is **tuple**.\n",
    "\n",
    "![picture](https://lh6.googleusercontent.com/tcnW-z2qCE9xexxdXvgdSQF8WVH5pnajjdXyYv81MRTLEScw6Kswa_1vZvFL-w-BcCU=w2400)\n",
    "\n",
    "Each element of a tuple can be accessed via an index.\n",
    "\n",
    "![picture](https://lh3.googleusercontent.com/FDryVQ6e_v-K5hNcC7z2wcNl8b3u5VRXGDK5ZvYBsfA8XgUtECkq64aezPM3yg4BS9U=w2400)\n",
    "\n",
    "We can concatenate or combine tuples by adding them. The result is the following with the following index. If we would like multiple elements from a tuple, we could also slice tuples. For example, if we want the first three elements we use the following command. The last index is one larger than the index you want; similarly if we want the last two elements, we use the following command.\n",
    "Notice, how the last index is one larger than the length of the tuple.We can use the len command to obtain the length of a tuple. As there are five elements, the result is 5.\n",
    "\n",
    "**Tuples are inmmutables**\n",
    "Tuples are immutable which means we can't change them. As a consequence of immutability, if we would like to manipulate a tuple we must create a new tuple instead. "
   ]
  },
  {
   "cell_type": "code",
   "execution_count": 292,
   "metadata": {},
   "outputs": [
    {
     "name": "stdout",
     "output_type": "stream",
     "text": [
      "('disco', 10, 1.2, 'hard rock', 7)\n"
     ]
    },
    {
     "data": {
      "text/plain": [
       "(10, 7, ('disco', 10, 1.2), ('hard rock', 7))"
      ]
     },
     "execution_count": 292,
     "metadata": {},
     "output_type": "execute_result"
    }
   ],
   "source": [
    "Tuple1 = (\"disco\",10,1.2)\n",
    "Tuple2 = Tuple1 + (\"hard rock\",7)\n",
    "print(Tuple2)\n",
    "Tuple2[1],Tuple2[-1], Tuple2[0:3], Tuple2[3:5]"
   ]
  },
  {
   "cell_type": "code",
   "execution_count": 293,
   "metadata": {},
   "outputs": [
    {
     "data": {
      "text/plain": [
       "5"
      ]
     },
     "execution_count": 293,
     "metadata": {},
     "output_type": "execute_result"
    }
   ],
   "source": [
    "len(Tuple2)"
   ]
  },
  {
   "attachments": {},
   "cell_type": "markdown",
   "metadata": {},
   "source": [
    "For example, if we would like to sort a tuple we use the function sorted. The input is the original tuple, the output is a new sorted list."
   ]
  },
  {
   "cell_type": "code",
   "execution_count": 294,
   "metadata": {},
   "outputs": [
    {
     "name": "stdout",
     "output_type": "stream",
     "text": [
      "[2, 5, 6, 6, 8, 9, 9, 10, 10]\n"
     ]
    }
   ],
   "source": [
    "Ratings = (10,9,6,5,10,8,9,6,2)\n",
    "RatingsSorted = sorted(Ratings)\n",
    "print(RatingsSorted)"
   ]
  },
  {
   "attachments": {},
   "cell_type": "markdown",
   "metadata": {},
   "source": [
    "**Tuples: Nesting**\n",
    "\n",
    "A tuple can contain other tuples as well as other complex data types. This is called nesting. We can access these elements using the standard indexing methods.  If we select an index with a tuple, the same index convention applies. As such, we can then access values in the tuple. For example, we could access the second element. We can apply this indexing directly to the tuple variable NT.\n",
    "\n",
    "![picture](https://lh3.googleusercontent.com/NlvplIGbMi3psLm5tMpWUyK6ZA6nnaMUSKWyGbDHXnfFCd9lPvaolMFbcRG4LFAl9xg=w2400)\n",
    "\n",
    "It is helpful to visualize this as a tree. We can visualize this nesting as a tree. The tuple has the following indexes. If we consider indexes with other tuples, we see the tuple at index 2 contains a tuple with two elements. We can access those two indexes. The same convention applies to index 3. We can access the elements in those tuples as well. We can continue the process. We can even access deeper levels of the tree by adding another square bracket.\n",
    "\n",
    "![picture](https://lh3.googleusercontent.com/j_4PtCbxPlWvar57rWxG8Lzpvc2hpVy7LrBK-lY6Roi4lttOCxvfTsp-k9HUJIQ5Dss=w2400)"
   ]
  },
  {
   "cell_type": "code",
   "execution_count": 295,
   "metadata": {},
   "outputs": [
    {
     "data": {
      "text/plain": [
       "(('pop', 'rock'), ('disco', (1, 2)), 'pop', 'r', 'o')"
      ]
     },
     "execution_count": 295,
     "metadata": {},
     "output_type": "execute_result"
    }
   ],
   "source": [
    "NT = (1,2,(\"pop\",\"rock\"),(3,4),(\"disco\",(1,2)))\n",
    "NT[2] , NT[4], NT[2][0], NT[2][1][0],NT[4][0][4]"
   ]
  },
  {
   "attachments": {},
   "cell_type": "markdown",
   "metadata": {},
   "source": [
    "## **2.2. List**\n",
    "Lists are also a popular data structure in Python. Lists are also an ordered sequence. Here is a list, \"L.\" A list is represented with **square brackets**. In many respect, lists are like tuples. One key difference is **they are mutable**. Lists can contain strings, floats, integers. We can nest other lists. We also nest tuples and other data structures. The same indexing conventions apply for nesting Like tuples, each element of a list can be accessed via an index."
   ]
  },
  {
   "cell_type": "code",
   "execution_count": 296,
   "metadata": {},
   "outputs": [
    {
     "data": {
      "text/plain": [
       "(('A', 1), [1982, [1, 2], ('A', 1)])"
      ]
     },
     "execution_count": 296,
     "metadata": {},
     "output_type": "execute_result"
    }
   ],
   "source": [
    "L =[\"Michael Jackson\",10.1,1982,[1,2],('A',1)]\n",
    "L[4] , L[2:5] ##List slicing"
   ]
  },
  {
   "cell_type": "code",
   "execution_count": 297,
   "metadata": {},
   "outputs": [
    {
     "name": "stdout",
     "output_type": "stream",
     "text": [
      "['Michael Jackson', 10.1, 1982, [1, 2], ('A', 1), 'pop', 10]\n"
     ]
    }
   ],
   "source": [
    "L1 = L + [\"pop\",10]\n",
    "print(L1)"
   ]
  },
  {
   "attachments": {},
   "cell_type": "markdown",
   "metadata": {},
   "source": [
    "Lists are mutable, therefore we can change them. For example, we apply the method extends by adding a dot followed by the name of the method then parentheses. The argument inside the parentheses is a new list that we are going to concatenate to the original list. In this case, instead of creating a new list, \"L1,\" the original list, \"L,\" is modified by adding two new elements. "
   ]
  },
  {
   "cell_type": "code",
   "execution_count": 298,
   "metadata": {},
   "outputs": [
    {
     "name": "stdout",
     "output_type": "stream",
     "text": [
      "['Michael Jackson', 10.1, 1982, [1, 2], ('A', 1), 'pop', 10]\n"
     ]
    },
    {
     "data": {
      "text/plain": [
       "7"
      ]
     },
     "execution_count": 298,
     "metadata": {},
     "output_type": "execute_result"
    }
   ],
   "source": [
    "L.extend([\"pop\",10])\n",
    "print(L)\n",
    "len(L)"
   ]
  },
  {
   "attachments": {},
   "cell_type": "markdown",
   "metadata": {},
   "source": [
    "Another similar method is append. If we apply append instead of extended, we add one element to the list. If we look at the index there is only one more element. Not 2."
   ]
  },
  {
   "cell_type": "code",
   "execution_count": 299,
   "metadata": {},
   "outputs": [
    {
     "name": "stdout",
     "output_type": "stream",
     "text": [
      "['Michael Jackson', 10.1, 1982, [1, 2], ('A', 1), 'pop', 10, ['pop', 10]]\n"
     ]
    },
    {
     "data": {
      "text/plain": [
       "8"
      ]
     },
     "execution_count": 299,
     "metadata": {},
     "output_type": "execute_result"
    }
   ],
   "source": [
    "L.append([\"pop\",10])\n",
    "print(L)\n",
    "len(L)"
   ]
  },
  {
   "attachments": {},
   "cell_type": "markdown",
   "metadata": {},
   "source": [
    "As lists are mutable we can change them. For example, we can change the first element as follows. The list now becomes hard rock. We can delete an element of a list using the del command. We simply indicate the list item we would like to remove as an argument. For example, if we would like to remove the first element the result becomes 10 1.2..\n"
   ]
  },
  {
   "cell_type": "code",
   "execution_count": 300,
   "metadata": {},
   "outputs": [
    {
     "name": "stdout",
     "output_type": "stream",
     "text": [
      "['hard rock', 10, 1.2]\n"
     ]
    }
   ],
   "source": [
    "A = [\"disco\",10,1.2]\n",
    "A[0] = \"hard rock\"\n",
    "print(A)"
   ]
  },
  {
   "cell_type": "code",
   "execution_count": 301,
   "metadata": {},
   "outputs": [
    {
     "name": "stdout",
     "output_type": "stream",
     "text": [
      "[10, 1.2]\n"
     ]
    }
   ],
   "source": [
    "del(A[0])\n",
    "print(A)"
   ]
  },
  {
   "attachments": {},
   "cell_type": "markdown",
   "metadata": {},
   "source": [
    "We can convert a string to a list using split. For example, the method split converts every group of characters separated by a space into an element of a list. We can use the split function to separate strings on a specific character known, as a delimiter. We simply pass the delimiter we would like to split on as an argument, in this case a comma. The result is a list. Each element corresponds to a set of characters that have been separated by a comma."
   ]
  },
  {
   "cell_type": "code",
   "execution_count": 302,
   "metadata": {},
   "outputs": [
    {
     "data": {
      "text/plain": [
       "['hard', 'rock']"
      ]
     },
     "execution_count": 302,
     "metadata": {},
     "output_type": "execute_result"
    }
   ],
   "source": [
    "\"hard rock\".split()"
   ]
  },
  {
   "cell_type": "code",
   "execution_count": 303,
   "metadata": {},
   "outputs": [
    {
     "data": {
      "text/plain": [
       "['A', 'B', 'C', 'D']"
      ]
     },
     "execution_count": 303,
     "metadata": {},
     "output_type": "execute_result"
    }
   ],
   "source": [
    "\"A,B,C,D\".split(\",\")"
   ]
  },
  {
   "attachments": {},
   "cell_type": "markdown",
   "metadata": {},
   "source": [
    "When we set one variable B equal to A, both A and B are referencing the same list. Multiple names referring to the same object is known as aliasing. We know from the list slide that the first element in B is set as 10. If we change the first element in A to banana, we get a side effect, the value of B will change as a consequence. A and B are referencing the same list, therefore if we change A, list B also changes. If we check the first element of B after changing list A, we get banana instead of 10."
   ]
  },
  {
   "cell_type": "code",
   "execution_count": 304,
   "metadata": {},
   "outputs": [
    {
     "name": "stdout",
     "output_type": "stream",
     "text": [
      "[10, 1.2]\n"
     ]
    }
   ],
   "source": [
    "print(A)\n",
    "A.extend([\"hard rock\",10])\n",
    "B=A"
   ]
  },
  {
   "cell_type": "code",
   "execution_count": 305,
   "metadata": {},
   "outputs": [
    {
     "name": "stdout",
     "output_type": "stream",
     "text": [
      "['banana', 1.2, 'hard rock', 10]\n",
      "banana\n"
     ]
    }
   ],
   "source": [
    "B[0]\n",
    "B[0] = \"banana\"\n",
    "print(A)\n",
    "print(A[0])"
   ]
  },
  {
   "attachments": {},
   "cell_type": "markdown",
   "metadata": {},
   "source": [
    "You can clone list A by using the following syntax. Variable A references one list. Variable B references a new copy or clone of the original list. Now if you change A, B will not change. We can get more info on lists, tuples, and many other objects in Python using the help command. Simply pass in the list, tuple, or any other Python object."
   ]
  },
  {
   "cell_type": "code",
   "execution_count": 306,
   "metadata": {},
   "outputs": [
    {
     "name": "stdout",
     "output_type": "stream",
     "text": [
      "['banana', 1.2, 'hard rock', 10]\n",
      "['banana', 1.2, 'hard rock', 10]\n",
      "banana\n",
      "['milagros', 1.2, 'hard rock', 10]\n"
     ]
    }
   ],
   "source": [
    "C = A[:]\n",
    "print(C)\n",
    "C[0] = \"milagros\"\n",
    "print(A)\n",
    "print(A[0])\n",
    "print(C)\n"
   ]
  },
  {
   "cell_type": "code",
   "execution_count": 307,
   "metadata": {},
   "outputs": [
    {
     "name": "stdout",
     "output_type": "stream",
     "text": [
      "Help on list object:\n",
      "\n",
      "class list(object)\n",
      " |  list(iterable=(), /)\n",
      " |  \n",
      " |  Built-in mutable sequence.\n",
      " |  \n",
      " |  If no argument is given, the constructor creates a new empty list.\n",
      " |  The argument must be an iterable if specified.\n",
      " |  \n",
      " |  Methods defined here:\n",
      " |  \n",
      " |  __add__(self, value, /)\n",
      " |      Return self+value.\n",
      " |  \n",
      " |  __contains__(self, key, /)\n",
      " |      Return key in self.\n",
      " |  \n",
      " |  __delitem__(self, key, /)\n",
      " |      Delete self[key].\n",
      " |  \n",
      " |  __eq__(self, value, /)\n",
      " |      Return self==value.\n",
      " |  \n",
      " |  __ge__(self, value, /)\n",
      " |      Return self>=value.\n",
      " |  \n",
      " |  __getattribute__(self, name, /)\n",
      " |      Return getattr(self, name).\n",
      " |  \n",
      " |  __getitem__(...)\n",
      " |      x.__getitem__(y) <==> x[y]\n",
      " |  \n",
      " |  __gt__(self, value, /)\n",
      " |      Return self>value.\n",
      " |  \n",
      " |  __iadd__(self, value, /)\n",
      " |      Implement self+=value.\n",
      " |  \n",
      " |  __imul__(self, value, /)\n",
      " |      Implement self*=value.\n",
      " |  \n",
      " |  __init__(self, /, *args, **kwargs)\n",
      " |      Initialize self.  See help(type(self)) for accurate signature.\n",
      " |  \n",
      " |  __iter__(self, /)\n",
      " |      Implement iter(self).\n",
      " |  \n",
      " |  __le__(self, value, /)\n",
      " |      Return self<=value.\n",
      " |  \n",
      " |  __len__(self, /)\n",
      " |      Return len(self).\n",
      " |  \n",
      " |  __lt__(self, value, /)\n",
      " |      Return self<value.\n",
      " |  \n",
      " |  __mul__(self, value, /)\n",
      " |      Return self*value.\n",
      " |  \n",
      " |  __ne__(self, value, /)\n",
      " |      Return self!=value.\n",
      " |  \n",
      " |  __repr__(self, /)\n",
      " |      Return repr(self).\n",
      " |  \n",
      " |  __reversed__(self, /)\n",
      " |      Return a reverse iterator over the list.\n",
      " |  \n",
      " |  __rmul__(self, value, /)\n",
      " |      Return value*self.\n",
      " |  \n",
      " |  __setitem__(self, key, value, /)\n",
      " |      Set self[key] to value.\n",
      " |  \n",
      " |  __sizeof__(self, /)\n",
      " |      Return the size of the list in memory, in bytes.\n",
      " |  \n",
      " |  append(self, object, /)\n",
      " |      Append object to the end of the list.\n",
      " |  \n",
      " |  clear(self, /)\n",
      " |      Remove all items from list.\n",
      " |  \n",
      " |  copy(self, /)\n",
      " |      Return a shallow copy of the list.\n",
      " |  \n",
      " |  count(self, value, /)\n",
      " |      Return number of occurrences of value.\n",
      " |  \n",
      " |  extend(self, iterable, /)\n",
      " |      Extend list by appending elements from the iterable.\n",
      " |  \n",
      " |  index(self, value, start=0, stop=9223372036854775807, /)\n",
      " |      Return first index of value.\n",
      " |      \n",
      " |      Raises ValueError if the value is not present.\n",
      " |  \n",
      " |  insert(self, index, object, /)\n",
      " |      Insert object before index.\n",
      " |  \n",
      " |  pop(self, index=-1, /)\n",
      " |      Remove and return item at index (default last).\n",
      " |      \n",
      " |      Raises IndexError if list is empty or index is out of range.\n",
      " |  \n",
      " |  remove(self, value, /)\n",
      " |      Remove first occurrence of value.\n",
      " |      \n",
      " |      Raises ValueError if the value is not present.\n",
      " |  \n",
      " |  reverse(self, /)\n",
      " |      Reverse *IN PLACE*.\n",
      " |  \n",
      " |  sort(self, /, *, key=None, reverse=False)\n",
      " |      Sort the list in ascending order and return None.\n",
      " |      \n",
      " |      The sort is in-place (i.e. the list itself is modified) and stable (i.e. the\n",
      " |      order of two equal elements is maintained).\n",
      " |      \n",
      " |      If a key function is given, apply it once to each list item and sort them,\n",
      " |      ascending or descending, according to their function values.\n",
      " |      \n",
      " |      The reverse flag can be set to sort in descending order.\n",
      " |  \n",
      " |  ----------------------------------------------------------------------\n",
      " |  Class methods defined here:\n",
      " |  \n",
      " |  __class_getitem__(...) from builtins.type\n",
      " |      See PEP 585\n",
      " |  \n",
      " |  ----------------------------------------------------------------------\n",
      " |  Static methods defined here:\n",
      " |  \n",
      " |  __new__(*args, **kwargs) from builtins.type\n",
      " |      Create and return a new object.  See help(type) for accurate signature.\n",
      " |  \n",
      " |  ----------------------------------------------------------------------\n",
      " |  Data and other attributes defined here:\n",
      " |  \n",
      " |  __hash__ = None\n",
      "\n"
     ]
    }
   ],
   "source": [
    "help(C)"
   ]
  },
  {
   "attachments": {},
   "cell_type": "markdown",
   "metadata": {},
   "source": [
    "## **2.3. Dictionaries**\n"
   ]
  }
 ],
 "metadata": {
  "kernelspec": {
   "display_name": "Python 3.11.0 64-bit",
   "language": "python",
   "name": "python3"
  },
  "language_info": {
   "codemirror_mode": {
    "name": "ipython",
    "version": 3
   },
   "file_extension": ".py",
   "mimetype": "text/x-python",
   "name": "python",
   "nbconvert_exporter": "python",
   "pygments_lexer": "ipython3",
   "version": "3.11.0"
  },
  "orig_nbformat": 4,
  "vscode": {
   "interpreter": {
    "hash": "dd52d00ba46645e1274d8513d26904c232551468df8b8dd20c2a8a30d9bbf604"
   }
  }
 },
 "nbformat": 4,
 "nbformat_minor": 2
}
