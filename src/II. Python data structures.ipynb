{
 "cells": [
  {
   "cell_type": "markdown",
   "metadata": {},
   "source": [
    "![picture](https://lh5.googleusercontent.com/3gK4qlljbD8APqYCbmXHh45g3bNFTVURIbFWp9dyAHk9zLBiKxOBjqatngyoApTMCbM=w2400)\n"
   ]
  },
  {
   "cell_type": "markdown",
   "metadata": {},
   "source": [
    "# **II. Python Data Structures**\n",
    "\n",
    "## **2.1. List and Tuples**\n",
    "\n",
    "A type is how Python represents different types of data. You can have different types in Python. They can be integers like 11, real numbers like 21.213, they can even be words. Integers, real numbers, and words can be expressed as different data types. The following chart summarizes three data types for the last examples. The first column indicates the expression. The second column indicates the data type. We can see the actual data type in Python by using the **type** command. We can have **int**, which stands for an **integer** and **float** that stands for float, essentially a **real number**. The type **string** is a **sequence of characters**.\n",
    "\n",
    "| type(11)                 | int   | integer                |\n",
    "|--------------------------|-------|------------------------|\n",
    "| type(21.26)              | float | float                  |\n",
    "| type('Hello Python')     | str   | sequence of characters |\n",
    "    \n",
    "Integers can be negative or positive. It should be noted that there is a finite range of integers but it is quite large. Floats are real numbers. They include the integers but also numbers in between the integers. Consider the numbers between 0 and 1. We can select numbers in between them. These numbers are floats. Similarly consider the numbers between 0.5 and 0.6. We can select numbers in between them. These are floats as well."
   ]
  }
 ],
 "metadata": {
  "kernelspec": {
   "display_name": "Python 3.11.0 64-bit",
   "language": "python",
   "name": "python3"
  },
  "language_info": {
   "name": "python",
   "version": "3.11.0"
  },
  "orig_nbformat": 4,
  "vscode": {
   "interpreter": {
    "hash": "dd52d00ba46645e1274d8513d26904c232551468df8b8dd20c2a8a30d9bbf604"
   }
  }
 },
 "nbformat": 4,
 "nbformat_minor": 2
}
