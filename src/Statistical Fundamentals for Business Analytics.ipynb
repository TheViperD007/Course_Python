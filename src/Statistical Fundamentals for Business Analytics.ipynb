{
 "cells": [
  {
   "attachments": {},
   "cell_type": "markdown",
   "metadata": {},
   "source": [
    "![picture](https://lh5.googleusercontent.com/3gK4qlljbD8APqYCbmXHh45g3bNFTVURIbFWp9dyAHk9zLBiKxOBjqatngyoApTMCbM=w2400)\n"
   ]
  },
  {
   "attachments": {},
   "cell_type": "markdown",
   "metadata": {},
   "source": [
    "# **III. Statistical Fundamentals for Business Analytics**\n",
    "\n",
    "## **3.1. Introduction to the basic notions of Descriptive and Inferential Statistics**\n",
    "Introduction to the basic notions of Descriptive and Inferential Statistics. \n",
    "Business Analytics Case Studies with statistical tools.\n",
    "Introduction to Linear Models and Case Studies. \n",
    "Introduction to Probabilistic Models and Case Studies.\n",
    "Forecasting using Time Models and case studies.\n",
    "\n",
    "Statical learning refers to a vast set of tools for understanding data. These tools can be classified as supervised or unsupervised.\n",
    "- Supervised statistical learning, involves building a statiscal model for predicting or estimating, an output based on one or more inputs.\n",
    "- Unsupervised statistical learning, there are inputs but no supervising output, nevertheless we can learn relationships and structure form such data.\n"
   ]
  }
 ],
 "metadata": {
  "kernelspec": {
   "display_name": "Python 3",
   "language": "python",
   "name": "python3"
  },
  "language_info": {
   "name": "python",
   "version": "3.11.0"
  },
  "orig_nbformat": 4,
  "vscode": {
   "interpreter": {
    "hash": "dd52d00ba46645e1274d8513d26904c232551468df8b8dd20c2a8a30d9bbf604"
   }
  }
 },
 "nbformat": 4,
 "nbformat_minor": 2
}
